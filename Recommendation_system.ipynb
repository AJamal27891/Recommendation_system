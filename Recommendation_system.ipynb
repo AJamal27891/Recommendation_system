{
  "nbformat": 4,
  "nbformat_minor": 0,
  "metadata": {
    "colab": {
      "name": "Recommendation_system.ipynb",
      "provenance": [],
      "machine_shape": "hm",
      "authorship_tag": "ABX9TyNY02iDWJXYpEXwXzU0Avcc",
      "include_colab_link": true
    },
    "kernelspec": {
      "display_name": "Python 3",
      "name": "python3"
    },
    "language_info": {
      "name": "python"
    }
  },
  "cells": [
    {
      "cell_type": "markdown",
      "metadata": {
        "id": "view-in-github",
        "colab_type": "text"
      },
      "source": [
        "<a href=\"https://colab.research.google.com/github/AJamal27891/Recommendation_system/blob/main/Recommendation_system.ipynb\" target=\"_parent\"><img src=\"https://colab.research.google.com/assets/colab-badge.svg\" alt=\"Open In Colab\"/></a>"
      ]
    },
    {
      "cell_type": "code",
      "metadata": {
        "colab": {
          "base_uri": "https://localhost:8080/"
        },
        "id": "Y2wxzAH9h95l",
        "outputId": "49d304d8-6527-46ec-be10-0dacb626ad97"
      },
      "source": [
        "from google.colab import drive\n",
        "drive.mount('/content/drive')"
      ],
      "execution_count": 1,
      "outputs": [
        {
          "output_type": "stream",
          "text": [
            "Drive already mounted at /content/drive; to attempt to forcibly remount, call drive.mount(\"/content/drive\", force_remount=True).\n"
          ],
          "name": "stdout"
        }
      ]
    },
    {
      "cell_type": "code",
      "metadata": {
        "colab": {
          "base_uri": "https://localhost:8080/"
        },
        "id": "fDW4ixRFhsPP",
        "outputId": "6d313f63-8765-477f-f8d1-47d3cee6404a"
      },
      "source": [
        "!unzip /content/drive/MyDrive/data.zip "
      ],
      "execution_count": 2,
      "outputs": [
        {
          "output_type": "stream",
          "text": [
            "Archive:  /content/drive/MyDrive/data.zip\n",
            "replace data/.DS_Store? [y]es, [n]o, [A]ll, [N]one, [r]ename: A\n",
            "  inflating: data/.DS_Store          \n",
            "  inflating: __MACOSX/data/._.DS_Store  \n",
            "  inflating: data/events.json        \n",
            "  inflating: __MACOSX/data/._events.json  \n",
            "  inflating: data/meta.json          \n",
            "  inflating: __MACOSX/data/._meta.json  \n"
          ],
          "name": "stdout"
        }
      ]
    },
    {
      "cell_type": "code",
      "metadata": {
        "id": "ZEci5r4ViRk4"
      },
      "source": [
        "import pandas as pd \n",
        "events = pd.read_json(r'/content/data/events.json')"
      ],
      "execution_count": 3,
      "outputs": []
    },
    {
      "cell_type": "code",
      "metadata": {
        "id": "Y-5LDcf4isoi"
      },
      "source": [
        "events.events.to_json(r'events.json')"
      ],
      "execution_count": 4,
      "outputs": []
    },
    {
      "cell_type": "code",
      "metadata": {
        "id": "S_Fad8AvjZVc"
      },
      "source": [
        "events = pd.read_json(r'events.json')"
      ],
      "execution_count": null,
      "outputs": []
    },
    {
      "cell_type": "code",
      "metadata": {
        "id": "Ku5oRdFtjiJn"
      },
      "source": [
        "events= events.T"
      ],
      "execution_count": null,
      "outputs": []
    },
    {
      "cell_type": "code",
      "metadata": {
        "id": "Z73JF1jYkDvH"
      },
      "source": [
        "events"
      ],
      "execution_count": null,
      "outputs": []
    },
    {
      "cell_type": "code",
      "metadata": {
        "id": "eVb6yoQikNIa"
      },
      "source": [
        "meta = pd.read_json(r'/content/data/meta.json')"
      ],
      "execution_count": null,
      "outputs": []
    },
    {
      "cell_type": "code",
      "metadata": {
        "id": "YXjpzb1vlAOV"
      },
      "source": [
        "meta.meta.to_json(r'meta.json')\n",
        "meta = pd.read_json(r'meta.json').T\n",
        "meta"
      ],
      "execution_count": null,
      "outputs": []
    },
    {
      "cell_type": "code",
      "metadata": {
        "id": "sjBlAdaklbD3"
      },
      "source": [
        "events.describe()"
      ],
      "execution_count": null,
      "outputs": []
    },
    {
      "cell_type": "code",
      "metadata": {
        "id": "0X6w_6bamJJP"
      },
      "source": [
        "meta.describe()"
      ],
      "execution_count": null,
      "outputs": []
    },
    {
      "cell_type": "code",
      "metadata": {
        "id": "2RhWWEEGmVZ6"
      },
      "source": [
        "data = events.merge(meta,left_on='productid',right_on='productid')\n",
        "data.describe().T"
      ],
      "execution_count": null,
      "outputs": []
    },
    {
      "cell_type": "code",
      "metadata": {
        "id": "t18TihPcnbS6"
      },
      "source": [
        "data.info()"
      ],
      "execution_count": null,
      "outputs": []
    },
    {
      "cell_type": "code",
      "metadata": {
        "id": "R5dRuL3NnoaI"
      },
      "source": [
        "# calculate freq patterns data\n",
        "fp_data = data[['sessionid','productid']]\n",
        "fp_data = fp_data.groupby(['sessionid','productid']).size().unstack(fill_value=0).astype(bool)\n"
      ],
      "execution_count": null,
      "outputs": []
    },
    {
      "cell_type": "code",
      "metadata": {
        "id": "TSMMOez8zOZY"
      },
      "source": [
        "fp_data.head(5)"
      ],
      "execution_count": null,
      "outputs": []
    },
    {
      "cell_type": "code",
      "metadata": {
        "id": "I7B2SZJmxQw1"
      },
      "source": [
        "!pip install mlxtend==0.17.0"
      ],
      "execution_count": null,
      "outputs": []
    },
    {
      "cell_type": "code",
      "metadata": {
        "id": "U_XhF3ERx_Id"
      },
      "source": [
        "import mlxtend\n",
        "print(mlxtend.__version__)"
      ],
      "execution_count": null,
      "outputs": []
    },
    {
      "cell_type": "code",
      "metadata": {
        "id": "QlqoKdmUxGjv"
      },
      "source": [
        "from mlxtend.frequent_patterns import fpgrowth \n",
        "fb_data = fpgrowth(fp_data, min_support=0.00002, use_colnames=True,max_len=2)"
      ],
      "execution_count": null,
      "outputs": []
    },
    {
      "cell_type": "code",
      "metadata": {
        "id": "2UlH1Dsx1kdY"
      },
      "source": [
        "from mlxtend.frequent_patterns import association_rules\n",
        "fb_rules = association_rules(fb_data, metric=\"confidence\", min_threshold=0.50)"
      ],
      "execution_count": null,
      "outputs": []
    },
    {
      "cell_type": "code",
      "metadata": {
        "id": "klnDXEKZ4Ekz"
      },
      "source": [
        "fb_rules.describe()"
      ],
      "execution_count": null,
      "outputs": []
    },
    {
      "cell_type": "code",
      "metadata": {
        "id": "6tIyC08n4qTL"
      },
      "source": [
        "fb_rules.lift.plot(kind='hist')"
      ],
      "execution_count": null,
      "outputs": []
    },
    {
      "cell_type": "code",
      "metadata": {
        "id": "HQypYKAp47_g"
      },
      "source": [
        "fb_rules.confidence.plot(kind='hist')"
      ],
      "execution_count": null,
      "outputs": []
    },
    {
      "cell_type": "code",
      "metadata": {
        "id": "7sXyRbeZ7nCv"
      },
      "source": [
        "fb_rules.columns"
      ],
      "execution_count": null,
      "outputs": []
    },
    {
      "cell_type": "code",
      "metadata": {
        "id": "KlxaY34M5I3X"
      },
      "source": [
        "fb_rules = fb_rules[['antecedents','consequents','confidence']]\n",
        "fb_rules.antecedents  = fb_rules.antecedents.apply(lambda x:list(x)[0]).astype(\"unicode\")\n",
        "fb_rules.consequents  = fb_rules.consequents.apply(lambda x:list(x)[0]).astype(\"unicode\")"
      ],
      "execution_count": null,
      "outputs": []
    },
    {
      "cell_type": "code",
      "metadata": {
        "id": "n_YITEPk7ykt"
      },
      "source": [
        "#lift and right tabel \n",
        "fb_rules"
      ],
      "execution_count": null,
      "outputs": []
    },
    {
      "cell_type": "code",
      "metadata": {
        "id": "zNlcxFB0-oFa"
      },
      "source": [
        "#merging \n",
        "fb_merged = fb_rules.merge(meta,left_on='antecedents',right_on='productid',suffixes=(None,\"_left\"))\n",
        "fb_merged = fb_merged.merge(meta,left_on='consequents',right_on='productid',suffixes=(None,\"_right\"))\n",
        "\n",
        "fb_merged"
      ],
      "execution_count": null,
      "outputs": []
    },
    {
      "cell_type": "code",
      "metadata": {
        "id": "1IzQ9OFnEjXl"
      },
      "source": [
        "features_list = list(fb_merged.columns)\n",
        "features_list.remove('confidence')"
      ],
      "execution_count": null,
      "outputs": []
    },
    {
      "cell_type": "code",
      "metadata": {
        "id": "EVQFgUanEJ7R"
      },
      "source": [
        "features = fb_merged[features_list]\n",
        "features"
      ],
      "execution_count": null,
      "outputs": []
    },
    {
      "cell_type": "code",
      "metadata": {
        "id": "pwbOqmCbFn3m"
      },
      "source": [
        "fb_merged.info()"
      ],
      "execution_count": null,
      "outputs": []
    },
    {
      "cell_type": "code",
      "metadata": {
        "id": "Dy_m2cuXEAoJ"
      },
      "source": [
        "fb_merged.values[0]"
      ],
      "execution_count": null,
      "outputs": []
    },
    {
      "cell_type": "code",
      "metadata": {
        "id": "3WC5zxAuHIgw"
      },
      "source": [
        "features.values"
      ],
      "execution_count": null,
      "outputs": []
    },
    {
      "cell_type": "code",
      "metadata": {
        "id": "kRbKyttxCH6_"
      },
      "source": [
        "#vectorizing using tfidf\n",
        "corpus_list = []\n",
        "for seq in features.values:\n",
        "  try:\n",
        "    x = ' '.join(seq)\n",
        "  except :\n",
        "    pass \n",
        "  corpus_list.append(x)"
      ],
      "execution_count": null,
      "outputs": []
    },
    {
      "cell_type": "code",
      "metadata": {
        "id": "fYjL7w3XLDJh"
      },
      "source": [
        "#split test and training \n",
        "test_size = .2 \n",
        "train_features = corpus_list[:int(len(corpus_list)*(1-test_size))]\n",
        "train_labels = fb_merged.confidence.values[:int(len(corpus_list)*(1-test_size))]"
      ],
      "execution_count": null,
      "outputs": []
    },
    {
      "cell_type": "code",
      "metadata": {
        "id": "Pu2XMu3lL3Oj"
      },
      "source": [
        "len(train_features) - len(train_labels)"
      ],
      "execution_count": null,
      "outputs": []
    },
    {
      "cell_type": "code",
      "metadata": {
        "id": "t0wsZ4ZsIARN"
      },
      "source": [
        "from sklearn.feature_extraction.text import TfidfVectorizer\n",
        "vectorizer = TfidfVectorizer()\n",
        "X= vectorizer.fit_transform(train_features)"
      ],
      "execution_count": null,
      "outputs": []
    },
    {
      "cell_type": "code",
      "metadata": {
        "id": "irTNzZCFQvRa"
      },
      "source": [
        "X"
      ],
      "execution_count": null,
      "outputs": []
    },
    {
      "cell_type": "code",
      "metadata": {
        "id": "wKAcR8daHm4P"
      },
      "source": [
        "len(vectorizer.get_feature_names())"
      ],
      "execution_count": null,
      "outputs": []
    },
    {
      "cell_type": "code",
      "metadata": {
        "id": "cZKjwu1gJ3Lk"
      },
      "source": [
        "encoded = vectorizer.transform(corpus_list[0].split())"
      ],
      "execution_count": null,
      "outputs": []
    },
    {
      "cell_type": "code",
      "metadata": {
        "id": "Udezv4jGJCwf"
      },
      "source": [
        "decoded= vectorizer.inverse_transform(encoded)"
      ],
      "execution_count": null,
      "outputs": []
    },
    {
      "cell_type": "code",
      "metadata": {
        "id": "-HVGFSyBJyo-"
      },
      "source": [
        "for x in decoded:\n",
        "  print(x)"
      ],
      "execution_count": null,
      "outputs": []
    },
    {
      "cell_type": "code",
      "metadata": {
        "id": "DVrnBgQyKmZb"
      },
      "source": [
        "train_features = [vectorizer.transform(train_features)]"
      ],
      "execution_count": null,
      "outputs": []
    },
    {
      "cell_type": "code",
      "metadata": {
        "id": "1zZc8FwAPiJk"
      },
      "source": [
        "X"
      ],
      "execution_count": null,
      "outputs": []
    },
    {
      "cell_type": "code",
      "metadata": {
        "id": "4yYiV9CyP6FL"
      },
      "source": [
        "train_labels[0]"
      ],
      "execution_count": null,
      "outputs": []
    },
    {
      "cell_type": "code",
      "metadata": {
        "id": "PQArBF5GMouZ"
      },
      "source": [
        "from sklearn.ensemble import RandomForestRegressor\n",
        "from sklearn.decomposition import TruncatedSVD\n",
        "pca = TruncatedSVD(350)\n",
        "X = pca.fit_transform(X)\n",
        "regressor = RandomForestRegressor()"
      ],
      "execution_count": null,
      "outputs": []
    },
    {
      "cell_type": "code",
      "metadata": {
        "id": "VVfh3q_5IicL"
      },
      "source": [
        "import numpy as np\n",
        "sum(pca.explained_variance_ratio_)"
      ],
      "execution_count": null,
      "outputs": []
    },
    {
      "cell_type": "code",
      "metadata": {
        "id": "tJmg9FK-xs7E"
      },
      "source": [
        "X[0]"
      ],
      "execution_count": null,
      "outputs": []
    },
    {
      "cell_type": "code",
      "metadata": {
        "id": "ko1Yz8HxZ7PE"
      },
      "source": [
        "regressor.fit(X, train_labels)"
      ],
      "execution_count": null,
      "outputs": []
    },
    {
      "cell_type": "code",
      "metadata": {
        "id": "pXdvduwbZ_4-"
      },
      "source": [
        "features_test = corpus_list[len(X):]\n",
        "features_test = vectorizer.transform(features_test)\n",
        "features_test = pca.transform(features_test)\n",
        "labels_test = fb_merged.confidence.values[len(X):]\n",
        "prediction = regressor.predict(features_test)\n"
      ],
      "execution_count": null,
      "outputs": []
    },
    {
      "cell_type": "code",
      "metadata": {
        "id": "XUPlUhbWyuYE"
      },
      "source": [
        "from sklearn.metrics import mean_squared_error\n",
        "rmse = mean_squared_error(labels_test, prediction, squared=False)"
      ],
      "execution_count": null,
      "outputs": []
    },
    {
      "cell_type": "code",
      "metadata": {
        "id": "44WYOz0C7E6b"
      },
      "source": [
        "rmse"
      ],
      "execution_count": null,
      "outputs": []
    }
  ]
}