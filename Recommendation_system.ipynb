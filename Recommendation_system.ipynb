{
  "nbformat": 4,
  "nbformat_minor": 0,
  "metadata": {
    "colab": {
      "name": "Recommendation_system.ipynb",
      "provenance": [],
      "machine_shape": "hm",
      "authorship_tag": "ABX9TyNu5Ln9VeV8yfEjA/z5bohI",
      "include_colab_link": true
    },
    "kernelspec": {
      "display_name": "Python 3",
      "name": "python3"
    },
    "language_info": {
      "name": "python"
    }
  },
  "cells": [
    {
      "cell_type": "markdown",
      "metadata": {
        "id": "view-in-github",
        "colab_type": "text"
      },
      "source": [
        "<a href=\"https://colab.research.google.com/github/AJamal27891/Recommendation_system/blob/main/Recommendation_system.ipynb\" target=\"_parent\"><img src=\"https://colab.research.google.com/assets/colab-badge.svg\" alt=\"Open In Colab\"/></a>"
      ]
    },
    {
      "cell_type": "code",
      "metadata": {
        "colab": {
          "base_uri": "https://localhost:8080/"
        },
        "id": "Y2wxzAH9h95l",
        "outputId": "2df2606f-f198-4115-e614-2eca4761641f"
      },
      "source": [
        "from google.colab import drive\n",
        "drive.mount('/content/drive')"
      ],
      "execution_count": 1,
      "outputs": [
        {
          "output_type": "stream",
          "text": [
            "Drive already mounted at /content/drive; to attempt to forcibly remount, call drive.mount(\"/content/drive\", force_remount=True).\n"
          ],
          "name": "stdout"
        }
      ]
    },
    {
      "cell_type": "code",
      "metadata": {
        "colab": {
          "base_uri": "https://localhost:8080/"
        },
        "id": "fDW4ixRFhsPP",
        "outputId": "32d18d81-12ef-4fe6-bc5b-dfefb23e3084"
      },
      "source": [
        "!unzip /content/drive/MyDrive/data.zip "
      ],
      "execution_count": 2,
      "outputs": [
        {
          "output_type": "stream",
          "text": [
            "Archive:  /content/drive/MyDrive/data.zip\n",
            "replace data/.DS_Store? [y]es, [n]o, [A]ll, [N]one, [r]ename: A\n",
            "  inflating: data/.DS_Store          \n",
            "  inflating: __MACOSX/data/._.DS_Store  \n",
            "  inflating: data/events.json        \n",
            "  inflating: __MACOSX/data/._events.json  \n",
            "  inflating: data/meta.json          \n",
            "  inflating: __MACOSX/data/._meta.json  \n"
          ],
          "name": "stdout"
        }
      ]
    },
    {
      "cell_type": "code",
      "metadata": {
        "id": "ZEci5r4ViRk4"
      },
      "source": [
        "import pandas as pd \n",
        "events = pd.read_json(r'/content/data/events.json')"
      ],
      "execution_count": 3,
      "outputs": []
    },
    {
      "cell_type": "code",
      "metadata": {
        "id": "Y-5LDcf4isoi"
      },
      "source": [
        "events.events.to_json(r'events.json')"
      ],
      "execution_count": 4,
      "outputs": []
    },
    {
      "cell_type": "code",
      "metadata": {
        "id": "S_Fad8AvjZVc"
      },
      "source": [
        "events = pd.read_json(r'events.json')"
      ],
      "execution_count": 5,
      "outputs": []
    },
    {
      "cell_type": "code",
      "metadata": {
        "id": "Ku5oRdFtjiJn"
      },
      "source": [
        "events= events.T"
      ],
      "execution_count": 6,
      "outputs": []
    },
    {
      "cell_type": "code",
      "metadata": {
        "colab": {
          "base_uri": "https://localhost:8080/",
          "height": 424
        },
        "id": "Z73JF1jYkDvH",
        "outputId": "53d49901-e9ae-48c2-a9c5-8e0738f19eb4"
      },
      "source": [
        "events"
      ],
      "execution_count": 7,
      "outputs": [
        {
          "output_type": "execute_result",
          "data": {
            "text/html": [
              "<div>\n",
              "<style scoped>\n",
              "    .dataframe tbody tr th:only-of-type {\n",
              "        vertical-align: middle;\n",
              "    }\n",
              "\n",
              "    .dataframe tbody tr th {\n",
              "        vertical-align: top;\n",
              "    }\n",
              "\n",
              "    .dataframe thead th {\n",
              "        text-align: right;\n",
              "    }\n",
              "</style>\n",
              "<table border=\"1\" class=\"dataframe\">\n",
              "  <thead>\n",
              "    <tr style=\"text-align: right;\">\n",
              "      <th></th>\n",
              "      <th>event</th>\n",
              "      <th>sessionid</th>\n",
              "      <th>eventtime</th>\n",
              "      <th>price</th>\n",
              "      <th>productid</th>\n",
              "    </tr>\n",
              "  </thead>\n",
              "  <tbody>\n",
              "    <tr>\n",
              "      <th>0</th>\n",
              "      <td>cart</td>\n",
              "      <td>a0655eee-1267-4820-af21-ad8ac068ff7a</td>\n",
              "      <td>2020-06-01T08:59:16.406Z</td>\n",
              "      <td>14.48</td>\n",
              "      <td>HBV00000NVZE8</td>\n",
              "    </tr>\n",
              "    <tr>\n",
              "      <th>1</th>\n",
              "      <td>cart</td>\n",
              "      <td>d2ea7bd3-9235-4a9f-a9ea-d7f296e71318</td>\n",
              "      <td>2020-06-01T08:59:46.580Z</td>\n",
              "      <td>49.90</td>\n",
              "      <td>HBV00000U2B18</td>\n",
              "    </tr>\n",
              "    <tr>\n",
              "      <th>2</th>\n",
              "      <td>cart</td>\n",
              "      <td>5e594788-78a0-44dd-8e66-37022d48f691</td>\n",
              "      <td>2020-06-01T08:59:33.308Z</td>\n",
              "      <td>1.99</td>\n",
              "      <td>OFIS3101-080</td>\n",
              "    </tr>\n",
              "    <tr>\n",
              "      <th>3</th>\n",
              "      <td>cart</td>\n",
              "      <td>fdfeb652-22fa-4153-b9b5-4dfa0dcaffdf</td>\n",
              "      <td>2020-06-01T08:59:31.911Z</td>\n",
              "      <td>2.25</td>\n",
              "      <td>HBV00000NVZBW</td>\n",
              "    </tr>\n",
              "    <tr>\n",
              "      <th>4</th>\n",
              "      <td>cart</td>\n",
              "      <td>9e9d4f7e-898c-40fb-aae9-256c40779933</td>\n",
              "      <td>2020-06-01T08:59:33.888Z</td>\n",
              "      <td>9.95</td>\n",
              "      <td>HBV00000NE0T4</td>\n",
              "    </tr>\n",
              "    <tr>\n",
              "      <th>...</th>\n",
              "      <td>...</td>\n",
              "      <td>...</td>\n",
              "      <td>...</td>\n",
              "      <td>...</td>\n",
              "      <td>...</td>\n",
              "    </tr>\n",
              "    <tr>\n",
              "      <th>387651</th>\n",
              "      <td>cart</td>\n",
              "      <td>0ce386d3-f9ae-46b1-a018-baa5ea91be0c</td>\n",
              "      <td>2020-06-15T03:55:05.322Z</td>\n",
              "      <td>19.90</td>\n",
              "      <td>HBV00000OE884</td>\n",
              "    </tr>\n",
              "    <tr>\n",
              "      <th>387652</th>\n",
              "      <td>cart</td>\n",
              "      <td>69be07e4-737d-4935-b2eb-e02ecd94986b</td>\n",
              "      <td>2020-06-15T03:56:50.064Z</td>\n",
              "      <td>9.95</td>\n",
              "      <td>HBV00000OE8AU</td>\n",
              "    </tr>\n",
              "    <tr>\n",
              "      <th>387653</th>\n",
              "      <td>cart</td>\n",
              "      <td>25f6960c-0144-419d-8761-2b539c75c9c9</td>\n",
              "      <td>2020-06-15T03:03:23.859Z</td>\n",
              "      <td>21.95</td>\n",
              "      <td>HBV00000PQM1C</td>\n",
              "    </tr>\n",
              "    <tr>\n",
              "      <th>387654</th>\n",
              "      <td>cart</td>\n",
              "      <td>eebd42a5-2d95-41b9-bc10-83db56ba3989</td>\n",
              "      <td>2020-06-15T03:29:54.865Z</td>\n",
              "      <td>17.50</td>\n",
              "      <td>HBV00000NFHXT</td>\n",
              "    </tr>\n",
              "    <tr>\n",
              "      <th>387655</th>\n",
              "      <td>cart</td>\n",
              "      <td>69be07e4-737d-4935-b2eb-e02ecd94986b</td>\n",
              "      <td>2020-06-15T03:55:04.997Z</td>\n",
              "      <td>27.99</td>\n",
              "      <td>HBV00000O2S4F</td>\n",
              "    </tr>\n",
              "  </tbody>\n",
              "</table>\n",
              "<p>387656 rows × 5 columns</p>\n",
              "</div>"
            ],
            "text/plain": [
              "       event                             sessionid  ...  price      productid\n",
              "0       cart  a0655eee-1267-4820-af21-ad8ac068ff7a  ...  14.48  HBV00000NVZE8\n",
              "1       cart  d2ea7bd3-9235-4a9f-a9ea-d7f296e71318  ...  49.90  HBV00000U2B18\n",
              "2       cart  5e594788-78a0-44dd-8e66-37022d48f691  ...   1.99   OFIS3101-080\n",
              "3       cart  fdfeb652-22fa-4153-b9b5-4dfa0dcaffdf  ...   2.25  HBV00000NVZBW\n",
              "4       cart  9e9d4f7e-898c-40fb-aae9-256c40779933  ...   9.95  HBV00000NE0T4\n",
              "...      ...                                   ...  ...    ...            ...\n",
              "387651  cart  0ce386d3-f9ae-46b1-a018-baa5ea91be0c  ...  19.90  HBV00000OE884\n",
              "387652  cart  69be07e4-737d-4935-b2eb-e02ecd94986b  ...   9.95  HBV00000OE8AU\n",
              "387653  cart  25f6960c-0144-419d-8761-2b539c75c9c9  ...  21.95  HBV00000PQM1C\n",
              "387654  cart  eebd42a5-2d95-41b9-bc10-83db56ba3989  ...  17.50  HBV00000NFHXT\n",
              "387655  cart  69be07e4-737d-4935-b2eb-e02ecd94986b  ...  27.99  HBV00000O2S4F\n",
              "\n",
              "[387656 rows x 5 columns]"
            ]
          },
          "metadata": {
            "tags": []
          },
          "execution_count": 7
        }
      ]
    },
    {
      "cell_type": "code",
      "metadata": {
        "id": "eVb6yoQikNIa"
      },
      "source": [
        "meta = pd.read_json(r'/content/data/meta.json')"
      ],
      "execution_count": 8,
      "outputs": []
    },
    {
      "cell_type": "code",
      "metadata": {
        "colab": {
          "base_uri": "https://localhost:8080/",
          "height": 424
        },
        "id": "YXjpzb1vlAOV",
        "outputId": "5c999bb8-c67f-484d-a3d1-128038990bff"
      },
      "source": [
        "meta.meta.to_json(r'meta.json')\n",
        "meta = pd.read_json(r'meta.json').T\n",
        "meta"
      ],
      "execution_count": 9,
      "outputs": [
        {
          "output_type": "execute_result",
          "data": {
            "text/html": [
              "<div>\n",
              "<style scoped>\n",
              "    .dataframe tbody tr th:only-of-type {\n",
              "        vertical-align: middle;\n",
              "    }\n",
              "\n",
              "    .dataframe tbody tr th {\n",
              "        vertical-align: top;\n",
              "    }\n",
              "\n",
              "    .dataframe thead th {\n",
              "        text-align: right;\n",
              "    }\n",
              "</style>\n",
              "<table border=\"1\" class=\"dataframe\">\n",
              "  <thead>\n",
              "    <tr style=\"text-align: right;\">\n",
              "      <th></th>\n",
              "      <th>productid</th>\n",
              "      <th>brand</th>\n",
              "      <th>category</th>\n",
              "      <th>subcategory</th>\n",
              "      <th>name</th>\n",
              "    </tr>\n",
              "  </thead>\n",
              "  <tbody>\n",
              "    <tr>\n",
              "      <th>0</th>\n",
              "      <td>HBV00000AX6LR</td>\n",
              "      <td>Palette</td>\n",
              "      <td>Kişisel Bakım</td>\n",
              "      <td>Saç Bakımı</td>\n",
              "      <td>Palette Kalıcı Doğal Renkler 10-4 PAPATYA</td>\n",
              "    </tr>\n",
              "    <tr>\n",
              "      <th>1</th>\n",
              "      <td>HBV00000BSAQG</td>\n",
              "      <td>Best</td>\n",
              "      <td>Pet Shop</td>\n",
              "      <td>Kedi</td>\n",
              "      <td>Best Pet Jöle İçinde Parça Etli Somonlu Konser...</td>\n",
              "    </tr>\n",
              "    <tr>\n",
              "      <th>2</th>\n",
              "      <td>HBV00000JUHBA</td>\n",
              "      <td>Tarım Kredi</td>\n",
              "      <td>Temel Gıda</td>\n",
              "      <td>Bakliyat, Pirinç, Makarna</td>\n",
              "      <td>Türkiye Tarım Kredi Koop.Yeşil Mercimek 1 kg</td>\n",
              "    </tr>\n",
              "    <tr>\n",
              "      <th>3</th>\n",
              "      <td>HBV00000NE0QI</td>\n",
              "      <td>Namet</td>\n",
              "      <td>Et, Balık, Şarküteri</td>\n",
              "      <td>Şarküteri</td>\n",
              "      <td>Namet Fıstıklı Macar Salam 100 gr</td>\n",
              "    </tr>\n",
              "    <tr>\n",
              "      <th>4</th>\n",
              "      <td>HBV00000NE0UQ</td>\n",
              "      <td>Muratbey</td>\n",
              "      <td>Kahvaltılık ve Süt</td>\n",
              "      <td>Peynir</td>\n",
              "      <td>Muratbey Burgu Peyniri 250 gr</td>\n",
              "    </tr>\n",
              "    <tr>\n",
              "      <th>...</th>\n",
              "      <td>...</td>\n",
              "      <td>...</td>\n",
              "      <td>...</td>\n",
              "      <td>...</td>\n",
              "      <td>...</td>\n",
              "    </tr>\n",
              "    <tr>\n",
              "      <th>10231</th>\n",
              "      <td>ZYHPREISBBKL008</td>\n",
              "      <td>Reis</td>\n",
              "      <td>Temel Gıda</td>\n",
              "      <td>Bakliyat, Pirinç, Makarna</td>\n",
              "      <td>Reis Gönen Baldo Pirinç 1 kg</td>\n",
              "    </tr>\n",
              "    <tr>\n",
              "      <th>10232</th>\n",
              "      <td>ZYNES11470137</td>\n",
              "      <td>Nescafe</td>\n",
              "      <td>İçecekler</td>\n",
              "      <td>Kahve</td>\n",
              "      <td>Nescafé Classic Çözünebilir Kahve 200gr Ekopaket</td>\n",
              "    </tr>\n",
              "    <tr>\n",
              "      <th>10233</th>\n",
              "      <td>ZYPAREX1909309</td>\n",
              "      <td>Parex</td>\n",
              "      <td>Ev Bakım ve Temizlik</td>\n",
              "      <td>Ev Temizlik Ürünleri</td>\n",
              "      <td>Parex Powerball Çizmez Ovma Teli</td>\n",
              "    </tr>\n",
              "    <tr>\n",
              "      <th>10234</th>\n",
              "      <td>ZYPAREX2107986</td>\n",
              "      <td>Parex</td>\n",
              "      <td>Ev Bakım ve Temizlik</td>\n",
              "      <td>Yüzey Temizleyiciler</td>\n",
              "      <td>Parex Tornado Döner Başlıklı Temizlik Seti</td>\n",
              "    </tr>\n",
              "    <tr>\n",
              "      <th>10235</th>\n",
              "      <td>ZYPYON6690</td>\n",
              "      <td>Febreze</td>\n",
              "      <td>Ev Bakım ve Temizlik</td>\n",
              "      <td>Oda Kokusu ve Koku Gidericiler</td>\n",
              "      <td>Febreze Kumaş ve Çamaşır Ferahlatıcı Sprey 500...</td>\n",
              "    </tr>\n",
              "  </tbody>\n",
              "</table>\n",
              "<p>10236 rows × 5 columns</p>\n",
              "</div>"
            ],
            "text/plain": [
              "             productid  ...                                               name\n",
              "0        HBV00000AX6LR  ...          Palette Kalıcı Doğal Renkler 10-4 PAPATYA\n",
              "1        HBV00000BSAQG  ...  Best Pet Jöle İçinde Parça Etli Somonlu Konser...\n",
              "2        HBV00000JUHBA  ...       Türkiye Tarım Kredi Koop.Yeşil Mercimek 1 kg\n",
              "3        HBV00000NE0QI  ...                  Namet Fıstıklı Macar Salam 100 gr\n",
              "4        HBV00000NE0UQ  ...                      Muratbey Burgu Peyniri 250 gr\n",
              "...                ...  ...                                                ...\n",
              "10231  ZYHPREISBBKL008  ...                       Reis Gönen Baldo Pirinç 1 kg\n",
              "10232    ZYNES11470137  ...   Nescafé Classic Çözünebilir Kahve 200gr Ekopaket\n",
              "10233   ZYPAREX1909309  ...                   Parex Powerball Çizmez Ovma Teli\n",
              "10234   ZYPAREX2107986  ...         Parex Tornado Döner Başlıklı Temizlik Seti\n",
              "10235       ZYPYON6690  ...  Febreze Kumaş ve Çamaşır Ferahlatıcı Sprey 500...\n",
              "\n",
              "[10236 rows x 5 columns]"
            ]
          },
          "metadata": {
            "tags": []
          },
          "execution_count": 9
        }
      ]
    },
    {
      "cell_type": "code",
      "metadata": {
        "colab": {
          "base_uri": "https://localhost:8080/",
          "height": 175
        },
        "id": "sjBlAdaklbD3",
        "outputId": "634c5a27-4403-4444-9d08-9ecf6cd35574"
      },
      "source": [
        "events.describe()"
      ],
      "execution_count": 10,
      "outputs": [
        {
          "output_type": "execute_result",
          "data": {
            "text/html": [
              "<div>\n",
              "<style scoped>\n",
              "    .dataframe tbody tr th:only-of-type {\n",
              "        vertical-align: middle;\n",
              "    }\n",
              "\n",
              "    .dataframe tbody tr th {\n",
              "        vertical-align: top;\n",
              "    }\n",
              "\n",
              "    .dataframe thead th {\n",
              "        text-align: right;\n",
              "    }\n",
              "</style>\n",
              "<table border=\"1\" class=\"dataframe\">\n",
              "  <thead>\n",
              "    <tr style=\"text-align: right;\">\n",
              "      <th></th>\n",
              "      <th>event</th>\n",
              "      <th>sessionid</th>\n",
              "      <th>eventtime</th>\n",
              "      <th>price</th>\n",
              "      <th>productid</th>\n",
              "    </tr>\n",
              "  </thead>\n",
              "  <tbody>\n",
              "    <tr>\n",
              "      <th>count</th>\n",
              "      <td>387656</td>\n",
              "      <td>387656</td>\n",
              "      <td>387656</td>\n",
              "      <td>387650</td>\n",
              "      <td>387650</td>\n",
              "    </tr>\n",
              "    <tr>\n",
              "      <th>unique</th>\n",
              "      <td>1</td>\n",
              "      <td>54442</td>\n",
              "      <td>387196</td>\n",
              "      <td>1217</td>\n",
              "      <td>10235</td>\n",
              "    </tr>\n",
              "    <tr>\n",
              "      <th>top</th>\n",
              "      <td>cart</td>\n",
              "      <td>08a906d4-4999-403c-a334-d296106d49cf</td>\n",
              "      <td>2020-06-15T13:50:03.378Z</td>\n",
              "      <td>18.48</td>\n",
              "      <td>HBV00000NVZGU</td>\n",
              "    </tr>\n",
              "    <tr>\n",
              "      <th>freq</th>\n",
              "      <td>387656</td>\n",
              "      <td>308</td>\n",
              "      <td>3</td>\n",
              "      <td>16750</td>\n",
              "      <td>17082</td>\n",
              "    </tr>\n",
              "  </tbody>\n",
              "</table>\n",
              "</div>"
            ],
            "text/plain": [
              "         event                             sessionid  ...   price      productid\n",
              "count   387656                                387656  ...  387650         387650\n",
              "unique       1                                 54442  ...    1217          10235\n",
              "top       cart  08a906d4-4999-403c-a334-d296106d49cf  ...   18.48  HBV00000NVZGU\n",
              "freq    387656                                   308  ...   16750          17082\n",
              "\n",
              "[4 rows x 5 columns]"
            ]
          },
          "metadata": {
            "tags": []
          },
          "execution_count": 10
        }
      ]
    },
    {
      "cell_type": "code",
      "metadata": {
        "colab": {
          "base_uri": "https://localhost:8080/",
          "height": 175
        },
        "id": "0X6w_6bamJJP",
        "outputId": "5674a102-4809-40cf-aa5e-535d286629cc"
      },
      "source": [
        "meta.describe()"
      ],
      "execution_count": 11,
      "outputs": [
        {
          "output_type": "execute_result",
          "data": {
            "text/html": [
              "<div>\n",
              "<style scoped>\n",
              "    .dataframe tbody tr th:only-of-type {\n",
              "        vertical-align: middle;\n",
              "    }\n",
              "\n",
              "    .dataframe tbody tr th {\n",
              "        vertical-align: top;\n",
              "    }\n",
              "\n",
              "    .dataframe thead th {\n",
              "        text-align: right;\n",
              "    }\n",
              "</style>\n",
              "<table border=\"1\" class=\"dataframe\">\n",
              "  <thead>\n",
              "    <tr style=\"text-align: right;\">\n",
              "      <th></th>\n",
              "      <th>productid</th>\n",
              "      <th>brand</th>\n",
              "      <th>category</th>\n",
              "      <th>subcategory</th>\n",
              "      <th>name</th>\n",
              "    </tr>\n",
              "  </thead>\n",
              "  <tbody>\n",
              "    <tr>\n",
              "      <th>count</th>\n",
              "      <td>10235</td>\n",
              "      <td>9777</td>\n",
              "      <td>10235</td>\n",
              "      <td>10235</td>\n",
              "      <td>10235</td>\n",
              "    </tr>\n",
              "    <tr>\n",
              "      <th>unique</th>\n",
              "      <td>10235</td>\n",
              "      <td>789</td>\n",
              "      <td>20</td>\n",
              "      <td>132</td>\n",
              "      <td>10123</td>\n",
              "    </tr>\n",
              "    <tr>\n",
              "      <th>top</th>\n",
              "      <td>HBV00000PV6R7</td>\n",
              "      <td>Carrefour</td>\n",
              "      <td>Atıştırmalık</td>\n",
              "      <td>Saç Bakımı</td>\n",
              "      <td>Carrefour Yumurta 30'lu M Boy</td>\n",
              "    </tr>\n",
              "    <tr>\n",
              "      <th>freq</th>\n",
              "      <td>1</td>\n",
              "      <td>396</td>\n",
              "      <td>1113</td>\n",
              "      <td>556</td>\n",
              "      <td>3</td>\n",
              "    </tr>\n",
              "  </tbody>\n",
              "</table>\n",
              "</div>"
            ],
            "text/plain": [
              "            productid      brand  ... subcategory                           name\n",
              "count           10235       9777  ...       10235                          10235\n",
              "unique          10235        789  ...         132                          10123\n",
              "top     HBV00000PV6R7  Carrefour  ...  Saç Bakımı  Carrefour Yumurta 30'lu M Boy\n",
              "freq                1        396  ...         556                              3\n",
              "\n",
              "[4 rows x 5 columns]"
            ]
          },
          "metadata": {
            "tags": []
          },
          "execution_count": 11
        }
      ]
    },
    {
      "cell_type": "code",
      "metadata": {
        "colab": {
          "base_uri": "https://localhost:8080/",
          "height": 331
        },
        "id": "2RhWWEEGmVZ6",
        "outputId": "d2ebdf0e-b8c9-442e-9be8-5bfd941b27f1"
      },
      "source": [
        "data = events.merge(meta,left_on='productid',right_on='productid')\n",
        "data.describe().T"
      ],
      "execution_count": 12,
      "outputs": [
        {
          "output_type": "execute_result",
          "data": {
            "text/html": [
              "<div>\n",
              "<style scoped>\n",
              "    .dataframe tbody tr th:only-of-type {\n",
              "        vertical-align: middle;\n",
              "    }\n",
              "\n",
              "    .dataframe tbody tr th {\n",
              "        vertical-align: top;\n",
              "    }\n",
              "\n",
              "    .dataframe thead th {\n",
              "        text-align: right;\n",
              "    }\n",
              "</style>\n",
              "<table border=\"1\" class=\"dataframe\">\n",
              "  <thead>\n",
              "    <tr style=\"text-align: right;\">\n",
              "      <th></th>\n",
              "      <th>count</th>\n",
              "      <th>unique</th>\n",
              "      <th>top</th>\n",
              "      <th>freq</th>\n",
              "    </tr>\n",
              "  </thead>\n",
              "  <tbody>\n",
              "    <tr>\n",
              "      <th>event</th>\n",
              "      <td>387656</td>\n",
              "      <td>1</td>\n",
              "      <td>cart</td>\n",
              "      <td>387656</td>\n",
              "    </tr>\n",
              "    <tr>\n",
              "      <th>sessionid</th>\n",
              "      <td>387656</td>\n",
              "      <td>54442</td>\n",
              "      <td>08a906d4-4999-403c-a334-d296106d49cf</td>\n",
              "      <td>308</td>\n",
              "    </tr>\n",
              "    <tr>\n",
              "      <th>eventtime</th>\n",
              "      <td>387656</td>\n",
              "      <td>387196</td>\n",
              "      <td>2020-06-10T13:05:10.583Z</td>\n",
              "      <td>3</td>\n",
              "    </tr>\n",
              "    <tr>\n",
              "      <th>price</th>\n",
              "      <td>387650</td>\n",
              "      <td>1217</td>\n",
              "      <td>18.48</td>\n",
              "      <td>16750</td>\n",
              "    </tr>\n",
              "    <tr>\n",
              "      <th>productid</th>\n",
              "      <td>387650</td>\n",
              "      <td>10235</td>\n",
              "      <td>HBV00000NVZGU</td>\n",
              "      <td>17082</td>\n",
              "    </tr>\n",
              "    <tr>\n",
              "      <th>brand</th>\n",
              "      <td>255805</td>\n",
              "      <td>789</td>\n",
              "      <td>Carrefour</td>\n",
              "      <td>36683</td>\n",
              "    </tr>\n",
              "    <tr>\n",
              "      <th>category</th>\n",
              "      <td>387650</td>\n",
              "      <td>20</td>\n",
              "      <td>Meyve ve Sebze</td>\n",
              "      <td>76021</td>\n",
              "    </tr>\n",
              "    <tr>\n",
              "      <th>subcategory</th>\n",
              "      <td>387650</td>\n",
              "      <td>132</td>\n",
              "      <td>Sebze</td>\n",
              "      <td>47590</td>\n",
              "    </tr>\n",
              "    <tr>\n",
              "      <th>name</th>\n",
              "      <td>387650</td>\n",
              "      <td>10123</td>\n",
              "      <td>Dana Biftek 250 gr</td>\n",
              "      <td>17082</td>\n",
              "    </tr>\n",
              "  </tbody>\n",
              "</table>\n",
              "</div>"
            ],
            "text/plain": [
              "              count  unique                                   top    freq\n",
              "event        387656       1                                  cart  387656\n",
              "sessionid    387656   54442  08a906d4-4999-403c-a334-d296106d49cf     308\n",
              "eventtime    387656  387196              2020-06-10T13:05:10.583Z       3\n",
              "price        387650    1217                                 18.48   16750\n",
              "productid    387650   10235                         HBV00000NVZGU   17082\n",
              "brand        255805     789                             Carrefour   36683\n",
              "category     387650      20                        Meyve ve Sebze   76021\n",
              "subcategory  387650     132                                 Sebze   47590\n",
              "name         387650   10123                    Dana Biftek 250 gr   17082"
            ]
          },
          "metadata": {
            "tags": []
          },
          "execution_count": 12
        }
      ]
    },
    {
      "cell_type": "code",
      "metadata": {
        "colab": {
          "base_uri": "https://localhost:8080/"
        },
        "id": "t18TihPcnbS6",
        "outputId": "8bc28366-d38b-4266-f450-c82db3ee6ba6"
      },
      "source": [
        "data.info()"
      ],
      "execution_count": 13,
      "outputs": [
        {
          "output_type": "stream",
          "text": [
            "<class 'pandas.core.frame.DataFrame'>\n",
            "Int64Index: 387656 entries, 0 to 387655\n",
            "Data columns (total 9 columns):\n",
            " #   Column       Non-Null Count   Dtype \n",
            "---  ------       --------------   ----- \n",
            " 0   event        387656 non-null  object\n",
            " 1   sessionid    387656 non-null  object\n",
            " 2   eventtime    387656 non-null  object\n",
            " 3   price        387650 non-null  object\n",
            " 4   productid    387650 non-null  object\n",
            " 5   brand        255805 non-null  object\n",
            " 6   category     387650 non-null  object\n",
            " 7   subcategory  387650 non-null  object\n",
            " 8   name         387650 non-null  object\n",
            "dtypes: object(9)\n",
            "memory usage: 29.6+ MB\n"
          ],
          "name": "stdout"
        }
      ]
    },
    {
      "cell_type": "code",
      "metadata": {
        "id": "R5dRuL3NnoaI"
      },
      "source": [
        "# calculate freq patterns data\n",
        "fp_data = data[['sessionid','productid']]\n",
        "fp_data = fp_data.groupby(['sessionid','productid']).size().unstack(fill_value=0).astype(bool)\n"
      ],
      "execution_count": 14,
      "outputs": []
    },
    {
      "cell_type": "code",
      "metadata": {
        "colab": {
          "base_uri": "https://localhost:8080/",
          "height": 391
        },
        "id": "TSMMOez8zOZY",
        "outputId": "580c3b40-d71d-4055-9b47-90b1ac64142d"
      },
      "source": [
        "fp_data.head(5)"
      ],
      "execution_count": 15,
      "outputs": [
        {
          "output_type": "execute_result",
          "data": {
            "text/html": [
              "<div>\n",
              "<style scoped>\n",
              "    .dataframe tbody tr th:only-of-type {\n",
              "        vertical-align: middle;\n",
              "    }\n",
              "\n",
              "    .dataframe tbody tr th {\n",
              "        vertical-align: top;\n",
              "    }\n",
              "\n",
              "    .dataframe thead th {\n",
              "        text-align: right;\n",
              "    }\n",
              "</style>\n",
              "<table border=\"1\" class=\"dataframe\">\n",
              "  <thead>\n",
              "    <tr style=\"text-align: right;\">\n",
              "      <th>productid</th>\n",
              "      <th>AILEBIZIZSMTLDGY54</th>\n",
              "      <th>AILEBIZIZSMTLDHB18</th>\n",
              "      <th>AILEBS179526</th>\n",
              "      <th>AILEBSHSB22037</th>\n",
              "      <th>AILEDALIN275101</th>\n",
              "      <th>AILEDALIN275103</th>\n",
              "      <th>AILEDALIN275105</th>\n",
              "      <th>AILEDALIN275106</th>\n",
              "      <th>AILEDALIN275107</th>\n",
              "      <th>AILEDALIN275114</th>\n",
              "      <th>AILEDALIN275122</th>\n",
              "      <th>AILEDALIN275169</th>\n",
              "      <th>AILEEBBKB-56556</th>\n",
              "      <th>AILEEBBKR-W4472</th>\n",
              "      <th>AILEELITDIS5285B</th>\n",
              "      <th>AILEELITDIS5288B</th>\n",
              "      <th>AILEETI1811300</th>\n",
              "      <th>AILEETI3511300</th>\n",
              "      <th>AILEETI5311300</th>\n",
              "      <th>AILEFIMAN5299094</th>\n",
              "      <th>AILEHDMAR8967772</th>\n",
              "      <th>AILEHDMAR8967774</th>\n",
              "      <th>AILEHDMAR8967775</th>\n",
              "      <th>AILEHDMAR8967777</th>\n",
              "      <th>AILEHDMAR8967779</th>\n",
              "      <th>AILEHERO0595800</th>\n",
              "      <th>AILEHERO0595801</th>\n",
              "      <th>AILEHERO0598801</th>\n",
              "      <th>AILEHIPPTR2087</th>\n",
              "      <th>AILEHIPPTR2342</th>\n",
              "      <th>AILEHIPPTR2468</th>\n",
              "      <th>AILEHIPPTR2473</th>\n",
              "      <th>AILEHIPPTR2477</th>\n",
              "      <th>AILEHIPPTR2769</th>\n",
              "      <th>AILEHIPPTR2963</th>\n",
              "      <th>AILEHIPPTR3141</th>\n",
              "      <th>AILEHIPPTR3331</th>\n",
              "      <th>AILEHIPPTR3551</th>\n",
              "      <th>AILEHIPPTR4202</th>\n",
              "      <th>AILEHIPPTR4212</th>\n",
              "      <th>...</th>\n",
              "      <th>ZYUNIL21026733</th>\n",
              "      <th>ZYUNIL21032491</th>\n",
              "      <th>ZYUNIL21038893</th>\n",
              "      <th>ZYUNIL21042007</th>\n",
              "      <th>ZYUNIL21108636</th>\n",
              "      <th>ZYUNIL21122153</th>\n",
              "      <th>ZYUNIL21127366</th>\n",
              "      <th>ZYUNIL21127405</th>\n",
              "      <th>ZYUNIL21127409</th>\n",
              "      <th>ZYUNIL21129933</th>\n",
              "      <th>ZYUNIL21166551</th>\n",
              "      <th>ZYUNIL21166552</th>\n",
              "      <th>ZYUNIL21166554</th>\n",
              "      <th>ZYUNIL581595</th>\n",
              "      <th>ZYUNIL70003152</th>\n",
              "      <th>ZYUNIL70003580</th>\n",
              "      <th>ZYUNIL70003656</th>\n",
              "      <th>ZYUNIL70003657</th>\n",
              "      <th>ZYUNIL70004274</th>\n",
              "      <th>ZYUNIL70005997</th>\n",
              "      <th>ZYUNIL70006848</th>\n",
              "      <th>ZYUNIL70006862</th>\n",
              "      <th>ZYUNIL70006863</th>\n",
              "      <th>ZYUNIL70006868</th>\n",
              "      <th>ZYUNIL70009140</th>\n",
              "      <th>ZYUNIL70009454</th>\n",
              "      <th>ZYUNIL70020865</th>\n",
              "      <th>ZYUNIL70021056</th>\n",
              "      <th>ZYUNIL70021119</th>\n",
              "      <th>ZYUNIL70021126</th>\n",
              "      <th>ZYUNIL798204</th>\n",
              "      <th>ZYUNIL798280</th>\n",
              "      <th>ZYUNMASEKM007</th>\n",
              "      <th>ZYUNMASEKM008</th>\n",
              "      <th>ZYUNMASEKM065</th>\n",
              "      <th>ZYUZAY1074</th>\n",
              "      <th>ZYUZAY1166</th>\n",
              "      <th>ZYUZAY1272</th>\n",
              "      <th>ZYVLEDASUN003</th>\n",
              "      <th>ZYWAX12117</th>\n",
              "    </tr>\n",
              "    <tr>\n",
              "      <th>sessionid</th>\n",
              "      <th></th>\n",
              "      <th></th>\n",
              "      <th></th>\n",
              "      <th></th>\n",
              "      <th></th>\n",
              "      <th></th>\n",
              "      <th></th>\n",
              "      <th></th>\n",
              "      <th></th>\n",
              "      <th></th>\n",
              "      <th></th>\n",
              "      <th></th>\n",
              "      <th></th>\n",
              "      <th></th>\n",
              "      <th></th>\n",
              "      <th></th>\n",
              "      <th></th>\n",
              "      <th></th>\n",
              "      <th></th>\n",
              "      <th></th>\n",
              "      <th></th>\n",
              "      <th></th>\n",
              "      <th></th>\n",
              "      <th></th>\n",
              "      <th></th>\n",
              "      <th></th>\n",
              "      <th></th>\n",
              "      <th></th>\n",
              "      <th></th>\n",
              "      <th></th>\n",
              "      <th></th>\n",
              "      <th></th>\n",
              "      <th></th>\n",
              "      <th></th>\n",
              "      <th></th>\n",
              "      <th></th>\n",
              "      <th></th>\n",
              "      <th></th>\n",
              "      <th></th>\n",
              "      <th></th>\n",
              "      <th></th>\n",
              "      <th></th>\n",
              "      <th></th>\n",
              "      <th></th>\n",
              "      <th></th>\n",
              "      <th></th>\n",
              "      <th></th>\n",
              "      <th></th>\n",
              "      <th></th>\n",
              "      <th></th>\n",
              "      <th></th>\n",
              "      <th></th>\n",
              "      <th></th>\n",
              "      <th></th>\n",
              "      <th></th>\n",
              "      <th></th>\n",
              "      <th></th>\n",
              "      <th></th>\n",
              "      <th></th>\n",
              "      <th></th>\n",
              "      <th></th>\n",
              "      <th></th>\n",
              "      <th></th>\n",
              "      <th></th>\n",
              "      <th></th>\n",
              "      <th></th>\n",
              "      <th></th>\n",
              "      <th></th>\n",
              "      <th></th>\n",
              "      <th></th>\n",
              "      <th></th>\n",
              "      <th></th>\n",
              "      <th></th>\n",
              "      <th></th>\n",
              "      <th></th>\n",
              "      <th></th>\n",
              "      <th></th>\n",
              "      <th></th>\n",
              "      <th></th>\n",
              "      <th></th>\n",
              "      <th></th>\n",
              "    </tr>\n",
              "  </thead>\n",
              "  <tbody>\n",
              "    <tr>\n",
              "      <th>000280f4-62fc-4dcd-b51d-c66ac14d7d8c</th>\n",
              "      <td>False</td>\n",
              "      <td>False</td>\n",
              "      <td>False</td>\n",
              "      <td>False</td>\n",
              "      <td>False</td>\n",
              "      <td>False</td>\n",
              "      <td>False</td>\n",
              "      <td>False</td>\n",
              "      <td>False</td>\n",
              "      <td>False</td>\n",
              "      <td>False</td>\n",
              "      <td>False</td>\n",
              "      <td>False</td>\n",
              "      <td>False</td>\n",
              "      <td>False</td>\n",
              "      <td>False</td>\n",
              "      <td>False</td>\n",
              "      <td>False</td>\n",
              "      <td>False</td>\n",
              "      <td>False</td>\n",
              "      <td>False</td>\n",
              "      <td>False</td>\n",
              "      <td>False</td>\n",
              "      <td>False</td>\n",
              "      <td>False</td>\n",
              "      <td>False</td>\n",
              "      <td>False</td>\n",
              "      <td>False</td>\n",
              "      <td>False</td>\n",
              "      <td>False</td>\n",
              "      <td>False</td>\n",
              "      <td>False</td>\n",
              "      <td>False</td>\n",
              "      <td>False</td>\n",
              "      <td>False</td>\n",
              "      <td>False</td>\n",
              "      <td>False</td>\n",
              "      <td>False</td>\n",
              "      <td>False</td>\n",
              "      <td>False</td>\n",
              "      <td>...</td>\n",
              "      <td>False</td>\n",
              "      <td>False</td>\n",
              "      <td>False</td>\n",
              "      <td>False</td>\n",
              "      <td>False</td>\n",
              "      <td>False</td>\n",
              "      <td>False</td>\n",
              "      <td>False</td>\n",
              "      <td>False</td>\n",
              "      <td>False</td>\n",
              "      <td>False</td>\n",
              "      <td>False</td>\n",
              "      <td>False</td>\n",
              "      <td>False</td>\n",
              "      <td>False</td>\n",
              "      <td>False</td>\n",
              "      <td>False</td>\n",
              "      <td>False</td>\n",
              "      <td>False</td>\n",
              "      <td>False</td>\n",
              "      <td>False</td>\n",
              "      <td>False</td>\n",
              "      <td>False</td>\n",
              "      <td>False</td>\n",
              "      <td>False</td>\n",
              "      <td>False</td>\n",
              "      <td>False</td>\n",
              "      <td>False</td>\n",
              "      <td>False</td>\n",
              "      <td>False</td>\n",
              "      <td>False</td>\n",
              "      <td>False</td>\n",
              "      <td>False</td>\n",
              "      <td>False</td>\n",
              "      <td>False</td>\n",
              "      <td>False</td>\n",
              "      <td>False</td>\n",
              "      <td>False</td>\n",
              "      <td>False</td>\n",
              "      <td>False</td>\n",
              "    </tr>\n",
              "    <tr>\n",
              "      <th>0002e53b-1f60-4309-8380-31ca03de51f8</th>\n",
              "      <td>False</td>\n",
              "      <td>False</td>\n",
              "      <td>False</td>\n",
              "      <td>False</td>\n",
              "      <td>False</td>\n",
              "      <td>False</td>\n",
              "      <td>False</td>\n",
              "      <td>False</td>\n",
              "      <td>False</td>\n",
              "      <td>False</td>\n",
              "      <td>False</td>\n",
              "      <td>False</td>\n",
              "      <td>False</td>\n",
              "      <td>False</td>\n",
              "      <td>False</td>\n",
              "      <td>False</td>\n",
              "      <td>False</td>\n",
              "      <td>False</td>\n",
              "      <td>False</td>\n",
              "      <td>False</td>\n",
              "      <td>False</td>\n",
              "      <td>False</td>\n",
              "      <td>False</td>\n",
              "      <td>False</td>\n",
              "      <td>False</td>\n",
              "      <td>False</td>\n",
              "      <td>False</td>\n",
              "      <td>False</td>\n",
              "      <td>False</td>\n",
              "      <td>False</td>\n",
              "      <td>False</td>\n",
              "      <td>False</td>\n",
              "      <td>False</td>\n",
              "      <td>False</td>\n",
              "      <td>False</td>\n",
              "      <td>False</td>\n",
              "      <td>False</td>\n",
              "      <td>False</td>\n",
              "      <td>False</td>\n",
              "      <td>False</td>\n",
              "      <td>...</td>\n",
              "      <td>False</td>\n",
              "      <td>False</td>\n",
              "      <td>False</td>\n",
              "      <td>False</td>\n",
              "      <td>False</td>\n",
              "      <td>False</td>\n",
              "      <td>False</td>\n",
              "      <td>False</td>\n",
              "      <td>False</td>\n",
              "      <td>False</td>\n",
              "      <td>False</td>\n",
              "      <td>False</td>\n",
              "      <td>False</td>\n",
              "      <td>False</td>\n",
              "      <td>False</td>\n",
              "      <td>False</td>\n",
              "      <td>False</td>\n",
              "      <td>False</td>\n",
              "      <td>False</td>\n",
              "      <td>False</td>\n",
              "      <td>False</td>\n",
              "      <td>False</td>\n",
              "      <td>False</td>\n",
              "      <td>False</td>\n",
              "      <td>False</td>\n",
              "      <td>False</td>\n",
              "      <td>False</td>\n",
              "      <td>False</td>\n",
              "      <td>False</td>\n",
              "      <td>False</td>\n",
              "      <td>False</td>\n",
              "      <td>False</td>\n",
              "      <td>False</td>\n",
              "      <td>False</td>\n",
              "      <td>False</td>\n",
              "      <td>False</td>\n",
              "      <td>False</td>\n",
              "      <td>False</td>\n",
              "      <td>False</td>\n",
              "      <td>False</td>\n",
              "    </tr>\n",
              "    <tr>\n",
              "      <th>0002ef34-6bee-4953-874b-8298ec26b625</th>\n",
              "      <td>False</td>\n",
              "      <td>False</td>\n",
              "      <td>False</td>\n",
              "      <td>False</td>\n",
              "      <td>False</td>\n",
              "      <td>False</td>\n",
              "      <td>False</td>\n",
              "      <td>False</td>\n",
              "      <td>False</td>\n",
              "      <td>False</td>\n",
              "      <td>False</td>\n",
              "      <td>False</td>\n",
              "      <td>False</td>\n",
              "      <td>False</td>\n",
              "      <td>False</td>\n",
              "      <td>False</td>\n",
              "      <td>False</td>\n",
              "      <td>False</td>\n",
              "      <td>False</td>\n",
              "      <td>False</td>\n",
              "      <td>False</td>\n",
              "      <td>False</td>\n",
              "      <td>False</td>\n",
              "      <td>False</td>\n",
              "      <td>False</td>\n",
              "      <td>False</td>\n",
              "      <td>False</td>\n",
              "      <td>False</td>\n",
              "      <td>False</td>\n",
              "      <td>False</td>\n",
              "      <td>False</td>\n",
              "      <td>False</td>\n",
              "      <td>False</td>\n",
              "      <td>False</td>\n",
              "      <td>False</td>\n",
              "      <td>False</td>\n",
              "      <td>False</td>\n",
              "      <td>False</td>\n",
              "      <td>False</td>\n",
              "      <td>False</td>\n",
              "      <td>...</td>\n",
              "      <td>False</td>\n",
              "      <td>False</td>\n",
              "      <td>False</td>\n",
              "      <td>False</td>\n",
              "      <td>False</td>\n",
              "      <td>False</td>\n",
              "      <td>False</td>\n",
              "      <td>False</td>\n",
              "      <td>False</td>\n",
              "      <td>False</td>\n",
              "      <td>False</td>\n",
              "      <td>False</td>\n",
              "      <td>False</td>\n",
              "      <td>False</td>\n",
              "      <td>False</td>\n",
              "      <td>False</td>\n",
              "      <td>False</td>\n",
              "      <td>False</td>\n",
              "      <td>False</td>\n",
              "      <td>False</td>\n",
              "      <td>False</td>\n",
              "      <td>False</td>\n",
              "      <td>False</td>\n",
              "      <td>False</td>\n",
              "      <td>False</td>\n",
              "      <td>False</td>\n",
              "      <td>False</td>\n",
              "      <td>False</td>\n",
              "      <td>False</td>\n",
              "      <td>False</td>\n",
              "      <td>False</td>\n",
              "      <td>False</td>\n",
              "      <td>False</td>\n",
              "      <td>False</td>\n",
              "      <td>False</td>\n",
              "      <td>False</td>\n",
              "      <td>False</td>\n",
              "      <td>False</td>\n",
              "      <td>False</td>\n",
              "      <td>False</td>\n",
              "    </tr>\n",
              "    <tr>\n",
              "      <th>000618de-d415-408c-863e-6124db43f529</th>\n",
              "      <td>False</td>\n",
              "      <td>False</td>\n",
              "      <td>False</td>\n",
              "      <td>False</td>\n",
              "      <td>False</td>\n",
              "      <td>False</td>\n",
              "      <td>False</td>\n",
              "      <td>False</td>\n",
              "      <td>False</td>\n",
              "      <td>False</td>\n",
              "      <td>False</td>\n",
              "      <td>False</td>\n",
              "      <td>False</td>\n",
              "      <td>False</td>\n",
              "      <td>False</td>\n",
              "      <td>False</td>\n",
              "      <td>False</td>\n",
              "      <td>False</td>\n",
              "      <td>False</td>\n",
              "      <td>False</td>\n",
              "      <td>False</td>\n",
              "      <td>False</td>\n",
              "      <td>False</td>\n",
              "      <td>False</td>\n",
              "      <td>False</td>\n",
              "      <td>False</td>\n",
              "      <td>False</td>\n",
              "      <td>False</td>\n",
              "      <td>False</td>\n",
              "      <td>False</td>\n",
              "      <td>False</td>\n",
              "      <td>False</td>\n",
              "      <td>False</td>\n",
              "      <td>False</td>\n",
              "      <td>False</td>\n",
              "      <td>False</td>\n",
              "      <td>False</td>\n",
              "      <td>False</td>\n",
              "      <td>False</td>\n",
              "      <td>False</td>\n",
              "      <td>...</td>\n",
              "      <td>False</td>\n",
              "      <td>False</td>\n",
              "      <td>False</td>\n",
              "      <td>False</td>\n",
              "      <td>False</td>\n",
              "      <td>False</td>\n",
              "      <td>False</td>\n",
              "      <td>False</td>\n",
              "      <td>False</td>\n",
              "      <td>False</td>\n",
              "      <td>False</td>\n",
              "      <td>False</td>\n",
              "      <td>False</td>\n",
              "      <td>False</td>\n",
              "      <td>False</td>\n",
              "      <td>False</td>\n",
              "      <td>False</td>\n",
              "      <td>False</td>\n",
              "      <td>False</td>\n",
              "      <td>False</td>\n",
              "      <td>False</td>\n",
              "      <td>False</td>\n",
              "      <td>False</td>\n",
              "      <td>False</td>\n",
              "      <td>False</td>\n",
              "      <td>False</td>\n",
              "      <td>False</td>\n",
              "      <td>False</td>\n",
              "      <td>False</td>\n",
              "      <td>False</td>\n",
              "      <td>False</td>\n",
              "      <td>False</td>\n",
              "      <td>False</td>\n",
              "      <td>False</td>\n",
              "      <td>False</td>\n",
              "      <td>False</td>\n",
              "      <td>False</td>\n",
              "      <td>False</td>\n",
              "      <td>False</td>\n",
              "      <td>False</td>\n",
              "    </tr>\n",
              "    <tr>\n",
              "      <th>000770d6-c2d4-4ad2-bb2c-b35274bc5e7e</th>\n",
              "      <td>False</td>\n",
              "      <td>False</td>\n",
              "      <td>False</td>\n",
              "      <td>False</td>\n",
              "      <td>False</td>\n",
              "      <td>False</td>\n",
              "      <td>False</td>\n",
              "      <td>False</td>\n",
              "      <td>False</td>\n",
              "      <td>False</td>\n",
              "      <td>False</td>\n",
              "      <td>False</td>\n",
              "      <td>False</td>\n",
              "      <td>False</td>\n",
              "      <td>False</td>\n",
              "      <td>False</td>\n",
              "      <td>False</td>\n",
              "      <td>False</td>\n",
              "      <td>False</td>\n",
              "      <td>False</td>\n",
              "      <td>False</td>\n",
              "      <td>False</td>\n",
              "      <td>False</td>\n",
              "      <td>False</td>\n",
              "      <td>False</td>\n",
              "      <td>False</td>\n",
              "      <td>False</td>\n",
              "      <td>False</td>\n",
              "      <td>False</td>\n",
              "      <td>False</td>\n",
              "      <td>False</td>\n",
              "      <td>False</td>\n",
              "      <td>False</td>\n",
              "      <td>False</td>\n",
              "      <td>False</td>\n",
              "      <td>False</td>\n",
              "      <td>False</td>\n",
              "      <td>False</td>\n",
              "      <td>False</td>\n",
              "      <td>False</td>\n",
              "      <td>...</td>\n",
              "      <td>False</td>\n",
              "      <td>False</td>\n",
              "      <td>False</td>\n",
              "      <td>False</td>\n",
              "      <td>False</td>\n",
              "      <td>False</td>\n",
              "      <td>False</td>\n",
              "      <td>False</td>\n",
              "      <td>False</td>\n",
              "      <td>False</td>\n",
              "      <td>False</td>\n",
              "      <td>False</td>\n",
              "      <td>False</td>\n",
              "      <td>False</td>\n",
              "      <td>False</td>\n",
              "      <td>False</td>\n",
              "      <td>False</td>\n",
              "      <td>False</td>\n",
              "      <td>False</td>\n",
              "      <td>False</td>\n",
              "      <td>False</td>\n",
              "      <td>False</td>\n",
              "      <td>False</td>\n",
              "      <td>False</td>\n",
              "      <td>False</td>\n",
              "      <td>False</td>\n",
              "      <td>False</td>\n",
              "      <td>False</td>\n",
              "      <td>False</td>\n",
              "      <td>False</td>\n",
              "      <td>False</td>\n",
              "      <td>False</td>\n",
              "      <td>False</td>\n",
              "      <td>False</td>\n",
              "      <td>False</td>\n",
              "      <td>False</td>\n",
              "      <td>False</td>\n",
              "      <td>False</td>\n",
              "      <td>False</td>\n",
              "      <td>False</td>\n",
              "    </tr>\n",
              "  </tbody>\n",
              "</table>\n",
              "<p>5 rows × 10235 columns</p>\n",
              "</div>"
            ],
            "text/plain": [
              "productid                             AILEBIZIZSMTLDGY54  ...  ZYWAX12117\n",
              "sessionid                                                 ...            \n",
              "000280f4-62fc-4dcd-b51d-c66ac14d7d8c               False  ...       False\n",
              "0002e53b-1f60-4309-8380-31ca03de51f8               False  ...       False\n",
              "0002ef34-6bee-4953-874b-8298ec26b625               False  ...       False\n",
              "000618de-d415-408c-863e-6124db43f529               False  ...       False\n",
              "000770d6-c2d4-4ad2-bb2c-b35274bc5e7e               False  ...       False\n",
              "\n",
              "[5 rows x 10235 columns]"
            ]
          },
          "metadata": {
            "tags": []
          },
          "execution_count": 15
        }
      ]
    },
    {
      "cell_type": "code",
      "metadata": {
        "colab": {
          "base_uri": "https://localhost:8080/"
        },
        "id": "I7B2SZJmxQw1",
        "outputId": "fb198a5a-df88-477f-cc8b-f25224c151b6"
      },
      "source": [
        "!pip install mlxtend==0.17.0"
      ],
      "execution_count": 16,
      "outputs": [
        {
          "output_type": "stream",
          "text": [
            "Requirement already satisfied: mlxtend==0.17.0 in /usr/local/lib/python3.7/dist-packages (0.17.0)\n",
            "Requirement already satisfied: scipy>=1.2.1 in /usr/local/lib/python3.7/dist-packages (from mlxtend==0.17.0) (1.4.1)\n",
            "Requirement already satisfied: joblib>=0.13.2 in /usr/local/lib/python3.7/dist-packages (from mlxtend==0.17.0) (1.0.1)\n",
            "Requirement already satisfied: pandas>=0.24.2 in /usr/local/lib/python3.7/dist-packages (from mlxtend==0.17.0) (1.1.5)\n",
            "Requirement already satisfied: matplotlib>=3.0.0 in /usr/local/lib/python3.7/dist-packages (from mlxtend==0.17.0) (3.2.2)\n",
            "Requirement already satisfied: scikit-learn>=0.20.3 in /usr/local/lib/python3.7/dist-packages (from mlxtend==0.17.0) (0.22.2.post1)\n",
            "Requirement already satisfied: numpy>=1.16.2 in /usr/local/lib/python3.7/dist-packages (from mlxtend==0.17.0) (1.19.5)\n",
            "Requirement already satisfied: setuptools in /usr/local/lib/python3.7/dist-packages (from mlxtend==0.17.0) (57.2.0)\n",
            "Requirement already satisfied: cycler>=0.10 in /usr/local/lib/python3.7/dist-packages (from matplotlib>=3.0.0->mlxtend==0.17.0) (0.10.0)\n",
            "Requirement already satisfied: pyparsing!=2.0.4,!=2.1.2,!=2.1.6,>=2.0.1 in /usr/local/lib/python3.7/dist-packages (from matplotlib>=3.0.0->mlxtend==0.17.0) (2.4.7)\n",
            "Requirement already satisfied: kiwisolver>=1.0.1 in /usr/local/lib/python3.7/dist-packages (from matplotlib>=3.0.0->mlxtend==0.17.0) (1.3.1)\n",
            "Requirement already satisfied: python-dateutil>=2.1 in /usr/local/lib/python3.7/dist-packages (from matplotlib>=3.0.0->mlxtend==0.17.0) (2.8.1)\n",
            "Requirement already satisfied: six in /usr/local/lib/python3.7/dist-packages (from cycler>=0.10->matplotlib>=3.0.0->mlxtend==0.17.0) (1.15.0)\n",
            "Requirement already satisfied: pytz>=2017.2 in /usr/local/lib/python3.7/dist-packages (from pandas>=0.24.2->mlxtend==0.17.0) (2018.9)\n"
          ],
          "name": "stdout"
        }
      ]
    },
    {
      "cell_type": "code",
      "metadata": {
        "colab": {
          "base_uri": "https://localhost:8080/"
        },
        "id": "U_XhF3ERx_Id",
        "outputId": "f565d69c-0a3a-4676-f573-6183008c3e9b"
      },
      "source": [
        "import mlxtend\n",
        "print(mlxtend.__version__)"
      ],
      "execution_count": 17,
      "outputs": [
        {
          "output_type": "stream",
          "text": [
            "0.17.0\n"
          ],
          "name": "stdout"
        }
      ]
    },
    {
      "cell_type": "code",
      "metadata": {
        "id": "QlqoKdmUxGjv"
      },
      "source": [
        "from mlxtend.frequent_patterns import fpgrowth \n",
        "fb_data = fpgrowth(fp_data, min_support=0.00002, use_colnames=True,max_len=2)"
      ],
      "execution_count": 18,
      "outputs": []
    },
    {
      "cell_type": "code",
      "metadata": {
        "id": "2UlH1Dsx1kdY"
      },
      "source": [
        "from mlxtend.frequent_patterns import association_rules\n",
        "fb_rules = association_rules(fb_data, metric=\"confidence\", min_threshold=0.70)"
      ],
      "execution_count": 19,
      "outputs": []
    },
    {
      "cell_type": "code",
      "metadata": {
        "colab": {
          "base_uri": "https://localhost:8080/",
          "height": 336
        },
        "id": "klnDXEKZ4Ekz",
        "outputId": "dfabb6c8-c47f-473c-e5bf-ef321a5375b5"
      },
      "source": [
        "fb_rules.describe()"
      ],
      "execution_count": 20,
      "outputs": [
        {
          "output_type": "stream",
          "text": [
            "/usr/local/lib/python3.7/dist-packages/numpy/lib/function_base.py:3968: RuntimeWarning: invalid value encountered in multiply\n",
            "  x2 = take(ap, indices_above, axis=axis) * weights_above\n"
          ],
          "name": "stderr"
        },
        {
          "output_type": "execute_result",
          "data": {
            "text/html": [
              "<div>\n",
              "<style scoped>\n",
              "    .dataframe tbody tr th:only-of-type {\n",
              "        vertical-align: middle;\n",
              "    }\n",
              "\n",
              "    .dataframe tbody tr th {\n",
              "        vertical-align: top;\n",
              "    }\n",
              "\n",
              "    .dataframe thead th {\n",
              "        text-align: right;\n",
              "    }\n",
              "</style>\n",
              "<table border=\"1\" class=\"dataframe\">\n",
              "  <thead>\n",
              "    <tr style=\"text-align: right;\">\n",
              "      <th></th>\n",
              "      <th>antecedent support</th>\n",
              "      <th>consequent support</th>\n",
              "      <th>support</th>\n",
              "      <th>confidence</th>\n",
              "      <th>lift</th>\n",
              "      <th>leverage</th>\n",
              "      <th>conviction</th>\n",
              "    </tr>\n",
              "  </thead>\n",
              "  <tbody>\n",
              "    <tr>\n",
              "      <th>count</th>\n",
              "      <td>607.000000</td>\n",
              "      <td>607.000000</td>\n",
              "      <td>607.000000</td>\n",
              "      <td>607.000000</td>\n",
              "      <td>607.000000</td>\n",
              "      <td>607.000000</td>\n",
              "      <td>607.000000</td>\n",
              "    </tr>\n",
              "    <tr>\n",
              "      <th>mean</th>\n",
              "      <td>0.000050</td>\n",
              "      <td>0.005577</td>\n",
              "      <td>0.000046</td>\n",
              "      <td>0.967138</td>\n",
              "      <td>4565.791940</td>\n",
              "      <td>0.000046</td>\n",
              "      <td>inf</td>\n",
              "    </tr>\n",
              "    <tr>\n",
              "      <th>std</th>\n",
              "      <td>0.000080</td>\n",
              "      <td>0.011205</td>\n",
              "      <td>0.000059</td>\n",
              "      <td>0.083295</td>\n",
              "      <td>6047.425923</td>\n",
              "      <td>0.000058</td>\n",
              "      <td>NaN</td>\n",
              "    </tr>\n",
              "    <tr>\n",
              "      <th>min</th>\n",
              "      <td>0.000037</td>\n",
              "      <td>0.000037</td>\n",
              "      <td>0.000037</td>\n",
              "      <td>0.700000</td>\n",
              "      <td>17.404731</td>\n",
              "      <td>0.000035</td>\n",
              "      <td>3.330211</td>\n",
              "    </tr>\n",
              "    <tr>\n",
              "      <th>25%</th>\n",
              "      <td>0.000037</td>\n",
              "      <td>0.000156</td>\n",
              "      <td>0.000037</td>\n",
              "      <td>1.000000</td>\n",
              "      <td>300.468984</td>\n",
              "      <td>0.000037</td>\n",
              "      <td>inf</td>\n",
              "    </tr>\n",
              "    <tr>\n",
              "      <th>50%</th>\n",
              "      <td>0.000037</td>\n",
              "      <td>0.000441</td>\n",
              "      <td>0.000037</td>\n",
              "      <td>1.000000</td>\n",
              "      <td>2177.680000</td>\n",
              "      <td>0.000037</td>\n",
              "      <td>NaN</td>\n",
              "    </tr>\n",
              "    <tr>\n",
              "      <th>75%</th>\n",
              "      <td>0.000037</td>\n",
              "      <td>0.003169</td>\n",
              "      <td>0.000037</td>\n",
              "      <td>1.000000</td>\n",
              "      <td>6049.111111</td>\n",
              "      <td>0.000037</td>\n",
              "      <td>inf</td>\n",
              "    </tr>\n",
              "    <tr>\n",
              "      <th>max</th>\n",
              "      <td>0.001892</td>\n",
              "      <td>0.045020</td>\n",
              "      <td>0.001396</td>\n",
              "      <td>1.000000</td>\n",
              "      <td>27221.000000</td>\n",
              "      <td>0.001377</td>\n",
              "      <td>inf</td>\n",
              "    </tr>\n",
              "  </tbody>\n",
              "</table>\n",
              "</div>"
            ],
            "text/plain": [
              "       antecedent support  consequent support  ...    leverage  conviction\n",
              "count          607.000000          607.000000  ...  607.000000  607.000000\n",
              "mean             0.000050            0.005577  ...    0.000046         inf\n",
              "std              0.000080            0.011205  ...    0.000058         NaN\n",
              "min              0.000037            0.000037  ...    0.000035    3.330211\n",
              "25%              0.000037            0.000156  ...    0.000037         inf\n",
              "50%              0.000037            0.000441  ...    0.000037         NaN\n",
              "75%              0.000037            0.003169  ...    0.000037         inf\n",
              "max              0.001892            0.045020  ...    0.001377         inf\n",
              "\n",
              "[8 rows x 7 columns]"
            ]
          },
          "metadata": {
            "tags": []
          },
          "execution_count": 20
        }
      ]
    },
    {
      "cell_type": "code",
      "metadata": {
        "colab": {
          "base_uri": "https://localhost:8080/",
          "height": 284
        },
        "id": "6tIyC08n4qTL",
        "outputId": "162ab307-c8af-4907-b362-3cb00d52fce2"
      },
      "source": [
        "fb_rules.lift.plot(kind='hist')"
      ],
      "execution_count": 21,
      "outputs": [
        {
          "output_type": "execute_result",
          "data": {
            "text/plain": [
              "<matplotlib.axes._subplots.AxesSubplot at 0x7f4369d33ad0>"
            ]
          },
          "metadata": {
            "tags": []
          },
          "execution_count": 21
        },
        {
          "output_type": "display_data",
          "data": {
            "image/png": "[encoded data removed]",
            "text/plain": [
              "<Figure size 432x288 with 1 Axes>"
            ]
          },
          "metadata": {
            "tags": [],
            "needs_background": "light"
          }
        }
      ]
    },
    {
      "cell_type": "code",
      "metadata": {
        "colab": {
          "base_uri": "https://localhost:8080/",
          "height": 283
        },
        "id": "HQypYKAp47_g",
        "outputId": "a290b1c2-391f-4f45-ac41-8daeb4ac14ea"
      },
      "source": [
        "fb_rules.confidence.plot(kind='hist')"
      ],
      "execution_count": 22,
      "outputs": [
        {
          "output_type": "execute_result",
          "data": {
            "text/plain": [
              "<matplotlib.axes._subplots.AxesSubplot at 0x7f436958a810>"
            ]
          },
          "metadata": {
            "tags": []
          },
          "execution_count": 22
        },
        {
          "output_type": "display_data",
          "data": {
            "image/png": "[encoded data removed]",
            "text/plain": [
              "<Figure size 432x288 with 1 Axes>"
            ]
          },
          "metadata": {
            "tags": [],
            "needs_background": "light"
          }
        }
      ]
    },
    {
      "cell_type": "code",
      "metadata": {
        "colab": {
          "base_uri": "https://localhost:8080/"
        },
        "id": "7sXyRbeZ7nCv",
        "outputId": "1c029516-2ace-441e-c7d8-7d6060062735"
      },
      "source": [
        "fb_rules.columns"
      ],
      "execution_count": 23,
      "outputs": [
        {
          "output_type": "execute_result",
          "data": {
            "text/plain": [
              "Index(['antecedents', 'consequents', 'antecedent support',\n",
              "       'consequent support', 'support', 'confidence', 'lift', 'leverage',\n",
              "       'conviction'],\n",
              "      dtype='object')"
            ]
          },
          "metadata": {
            "tags": []
          },
          "execution_count": 23
        }
      ]
    },
    {
      "cell_type": "code",
      "metadata": {
        "id": "KlxaY34M5I3X"
      },
      "source": [
        "fb_rules = fb_rules[['antecedents','consequents','confidence']]\n",
        "fb_rules.antecedents  = fb_rules.antecedents.apply(lambda x:list(x)[0]).astype(\"unicode\")\n",
        "fb_rules.consequents  = fb_rules.consequents.apply(lambda x:list(x)[0]).astype(\"unicode\")"
      ],
      "execution_count": 24,
      "outputs": []
    },
    {
      "cell_type": "code",
      "metadata": {
        "colab": {
          "base_uri": "https://localhost:8080/",
          "height": 424
        },
        "id": "n_YITEPk7ykt",
        "outputId": "197b305b-496c-4410-a71f-07710d903ec0"
      },
      "source": [
        "#lift and right tabel \n",
        "fb_rules"
      ],
      "execution_count": 25,
      "outputs": [
        {
          "output_type": "execute_result",
          "data": {
            "text/html": [
              "<div>\n",
              "<style scoped>\n",
              "    .dataframe tbody tr th:only-of-type {\n",
              "        vertical-align: middle;\n",
              "    }\n",
              "\n",
              "    .dataframe tbody tr th {\n",
              "        vertical-align: top;\n",
              "    }\n",
              "\n",
              "    .dataframe thead th {\n",
              "        text-align: right;\n",
              "    }\n",
              "</style>\n",
              "<table border=\"1\" class=\"dataframe\">\n",
              "  <thead>\n",
              "    <tr style=\"text-align: right;\">\n",
              "      <th></th>\n",
              "      <th>antecedents</th>\n",
              "      <th>consequents</th>\n",
              "      <th>confidence</th>\n",
              "    </tr>\n",
              "  </thead>\n",
              "  <tbody>\n",
              "    <tr>\n",
              "      <th>0</th>\n",
              "      <td>HBV00000TDWF9</td>\n",
              "      <td>HBV00000O2S62</td>\n",
              "      <td>0.75</td>\n",
              "    </tr>\n",
              "    <tr>\n",
              "      <th>1</th>\n",
              "      <td>HBV00000PVBAH</td>\n",
              "      <td>HBV00000PQKET</td>\n",
              "      <td>0.75</td>\n",
              "    </tr>\n",
              "    <tr>\n",
              "      <th>2</th>\n",
              "      <td>HBV00000U278U</td>\n",
              "      <td>HBV00000NVZBI</td>\n",
              "      <td>0.75</td>\n",
              "    </tr>\n",
              "    <tr>\n",
              "      <th>3</th>\n",
              "      <td>HBV00000QU45B</td>\n",
              "      <td>HBV000008SJZC</td>\n",
              "      <td>1.00</td>\n",
              "    </tr>\n",
              "    <tr>\n",
              "      <th>4</th>\n",
              "      <td>HBV00000QU45B</td>\n",
              "      <td>HBV000008SJWO</td>\n",
              "      <td>1.00</td>\n",
              "    </tr>\n",
              "    <tr>\n",
              "      <th>...</th>\n",
              "      <td>...</td>\n",
              "      <td>...</td>\n",
              "      <td>...</td>\n",
              "    </tr>\n",
              "    <tr>\n",
              "      <th>602</th>\n",
              "      <td>HBV00000PV8IF</td>\n",
              "      <td>HBV00000U2B97</td>\n",
              "      <td>1.00</td>\n",
              "    </tr>\n",
              "    <tr>\n",
              "      <th>603</th>\n",
              "      <td>HBV00000U2B97</td>\n",
              "      <td>HBV00000PV8IF</td>\n",
              "      <td>1.00</td>\n",
              "    </tr>\n",
              "    <tr>\n",
              "      <th>604</th>\n",
              "      <td>HBV0000097EJO</td>\n",
              "      <td>ZYBENC336876</td>\n",
              "      <td>1.00</td>\n",
              "    </tr>\n",
              "    <tr>\n",
              "      <th>605</th>\n",
              "      <td>HRTEK3TEKIS604</td>\n",
              "      <td>HBV00000PVQBT</td>\n",
              "      <td>1.00</td>\n",
              "    </tr>\n",
              "    <tr>\n",
              "      <th>606</th>\n",
              "      <td>HBV00000PVQBT</td>\n",
              "      <td>HRTEK3TEKIS604</td>\n",
              "      <td>1.00</td>\n",
              "    </tr>\n",
              "  </tbody>\n",
              "</table>\n",
              "<p>607 rows × 3 columns</p>\n",
              "</div>"
            ],
            "text/plain": [
              "        antecedents     consequents  confidence\n",
              "0     HBV00000TDWF9   HBV00000O2S62        0.75\n",
              "1     HBV00000PVBAH   HBV00000PQKET        0.75\n",
              "2     HBV00000U278U   HBV00000NVZBI        0.75\n",
              "3     HBV00000QU45B   HBV000008SJZC        1.00\n",
              "4     HBV00000QU45B   HBV000008SJWO        1.00\n",
              "..              ...             ...         ...\n",
              "602   HBV00000PV8IF   HBV00000U2B97        1.00\n",
              "603   HBV00000U2B97   HBV00000PV8IF        1.00\n",
              "604   HBV0000097EJO    ZYBENC336876        1.00\n",
              "605  HRTEK3TEKIS604   HBV00000PVQBT        1.00\n",
              "606   HBV00000PVQBT  HRTEK3TEKIS604        1.00\n",
              "\n",
              "[607 rows x 3 columns]"
            ]
          },
          "metadata": {
            "tags": []
          },
          "execution_count": 25
        }
      ]
    },
    {
      "cell_type": "code",
      "metadata": {
        "colab": {
          "base_uri": "https://localhost:8080/",
          "height": 965
        },
        "id": "zNlcxFB0-oFa",
        "outputId": "0e8ab8d3-900a-448e-9859-d61e8f17b8e5"
      },
      "source": [
        "#merging \n",
        "fb_merged = fb_rules.merge(meta,left_on='antecedents',right_on='productid',suffixes=(None,\"_left\"))\n",
        "fb_merged = fb_merged.merge(meta,left_on='consequents',right_on='productid',suffixes=(None,\"_right\"))\n",
        "\n",
        "fb_merged"
      ],
      "execution_count": 26,
      "outputs": [
        {
          "output_type": "execute_result",
          "data": {
            "text/html": [
              "<div>\n",
              "<style scoped>\n",
              "    .dataframe tbody tr th:only-of-type {\n",
              "        vertical-align: middle;\n",
              "    }\n",
              "\n",
              "    .dataframe tbody tr th {\n",
              "        vertical-align: top;\n",
              "    }\n",
              "\n",
              "    .dataframe thead th {\n",
              "        text-align: right;\n",
              "    }\n",
              "</style>\n",
              "<table border=\"1\" class=\"dataframe\">\n",
              "  <thead>\n",
              "    <tr style=\"text-align: right;\">\n",
              "      <th></th>\n",
              "      <th>antecedents</th>\n",
              "      <th>consequents</th>\n",
              "      <th>confidence</th>\n",
              "      <th>productid</th>\n",
              "      <th>brand</th>\n",
              "      <th>category</th>\n",
              "      <th>subcategory</th>\n",
              "      <th>name</th>\n",
              "      <th>productid_right</th>\n",
              "      <th>brand_right</th>\n",
              "      <th>category_right</th>\n",
              "      <th>subcategory_right</th>\n",
              "      <th>name_right</th>\n",
              "    </tr>\n",
              "  </thead>\n",
              "  <tbody>\n",
              "    <tr>\n",
              "      <th>0</th>\n",
              "      <td>HBV00000TDWF9</td>\n",
              "      <td>HBV00000O2S62</td>\n",
              "      <td>0.75</td>\n",
              "      <td>HBV00000TDWF9</td>\n",
              "      <td>Tek Lezzet</td>\n",
              "      <td>Pratik Yemekler</td>\n",
              "      <td>Hazır Yemekler</td>\n",
              "      <td>Tek Lezzet Bal Kabağı Püresi Kavanoz 320 gr</td>\n",
              "      <td>HBV00000O2S62</td>\n",
              "      <td>None</td>\n",
              "      <td>Meyve ve Sebze</td>\n",
              "      <td>Meyve</td>\n",
              "      <td>Çilek 250 gr</td>\n",
              "    </tr>\n",
              "    <tr>\n",
              "      <th>1</th>\n",
              "      <td>HBV00000SP8AZ</td>\n",
              "      <td>HBV00000O2S62</td>\n",
              "      <td>0.75</td>\n",
              "      <td>HBV00000SP8AZ</td>\n",
              "      <td>Tat</td>\n",
              "      <td>Temel Gıda</td>\n",
              "      <td>Salça ve Hazır Soslar</td>\n",
              "      <td>Tat Ranch Sos 220 gr</td>\n",
              "      <td>HBV00000O2S62</td>\n",
              "      <td>None</td>\n",
              "      <td>Meyve ve Sebze</td>\n",
              "      <td>Meyve</td>\n",
              "      <td>Çilek 250 gr</td>\n",
              "    </tr>\n",
              "    <tr>\n",
              "      <th>2</th>\n",
              "      <td>HBV00000PV5O6</td>\n",
              "      <td>HBV00000O2S62</td>\n",
              "      <td>1.00</td>\n",
              "      <td>HBV00000PV5O6</td>\n",
              "      <td>Arifoğlu</td>\n",
              "      <td>Temel Gıda</td>\n",
              "      <td>Salça ve Hazır Soslar</td>\n",
              "      <td>Arifoğlu Nar Ekşisi 750 g</td>\n",
              "      <td>HBV00000O2S62</td>\n",
              "      <td>None</td>\n",
              "      <td>Meyve ve Sebze</td>\n",
              "      <td>Meyve</td>\n",
              "      <td>Çilek 250 gr</td>\n",
              "    </tr>\n",
              "    <tr>\n",
              "      <th>3</th>\n",
              "      <td>HBV00000OE7U3</td>\n",
              "      <td>HBV00000O2S62</td>\n",
              "      <td>0.75</td>\n",
              "      <td>HBV00000OE7U3</td>\n",
              "      <td>None</td>\n",
              "      <td>Meyve ve Sebze</td>\n",
              "      <td>Meyve</td>\n",
              "      <td>Çağla 250 gr</td>\n",
              "      <td>HBV00000O2S62</td>\n",
              "      <td>None</td>\n",
              "      <td>Meyve ve Sebze</td>\n",
              "      <td>Meyve</td>\n",
              "      <td>Çilek 250 gr</td>\n",
              "    </tr>\n",
              "    <tr>\n",
              "      <th>4</th>\n",
              "      <td>HBV00000QX1YQ</td>\n",
              "      <td>HBV00000O2S62</td>\n",
              "      <td>1.00</td>\n",
              "      <td>HBV00000QX1YQ</td>\n",
              "      <td>Lezita</td>\n",
              "      <td>Et, Balık, Şarküteri</td>\n",
              "      <td>Şarküteri</td>\n",
              "      <td>Lezita Nugget 300 gr</td>\n",
              "      <td>HBV00000O2S62</td>\n",
              "      <td>None</td>\n",
              "      <td>Meyve ve Sebze</td>\n",
              "      <td>Meyve</td>\n",
              "      <td>Çilek 250 gr</td>\n",
              "    </tr>\n",
              "    <tr>\n",
              "      <th>...</th>\n",
              "      <td>...</td>\n",
              "      <td>...</td>\n",
              "      <td>...</td>\n",
              "      <td>...</td>\n",
              "      <td>...</td>\n",
              "      <td>...</td>\n",
              "      <td>...</td>\n",
              "      <td>...</td>\n",
              "      <td>...</td>\n",
              "      <td>...</td>\n",
              "      <td>...</td>\n",
              "      <td>...</td>\n",
              "      <td>...</td>\n",
              "    </tr>\n",
              "    <tr>\n",
              "      <th>602</th>\n",
              "      <td>HBV00000PV8IF</td>\n",
              "      <td>HBV00000U2B97</td>\n",
              "      <td>1.00</td>\n",
              "      <td>HBV00000PV8IF</td>\n",
              "      <td>Hipp</td>\n",
              "      <td>Bebek</td>\n",
              "      <td>Biberon Mamaları</td>\n",
              "      <td>Hipp Organik Sütlü Meyveli Ek Gıda 250 g</td>\n",
              "      <td>HBV00000U2B97</td>\n",
              "      <td>Hipp</td>\n",
              "      <td>Bebek</td>\n",
              "      <td>Biberon Mamaları</td>\n",
              "      <td>Hipp Organik Yoğurtlu Meyveli Tahıl Bazlı Ek g...</td>\n",
              "    </tr>\n",
              "    <tr>\n",
              "      <th>603</th>\n",
              "      <td>HBV00000U2B97</td>\n",
              "      <td>HBV00000PV8IF</td>\n",
              "      <td>1.00</td>\n",
              "      <td>HBV00000U2B97</td>\n",
              "      <td>Hipp</td>\n",
              "      <td>Bebek</td>\n",
              "      <td>Biberon Mamaları</td>\n",
              "      <td>Hipp Organik Yoğurtlu Meyveli Tahıl Bazlı Ek g...</td>\n",
              "      <td>HBV00000PV8IF</td>\n",
              "      <td>Hipp</td>\n",
              "      <td>Bebek</td>\n",
              "      <td>Biberon Mamaları</td>\n",
              "      <td>Hipp Organik Sütlü Meyveli Ek Gıda 250 g</td>\n",
              "    </tr>\n",
              "    <tr>\n",
              "      <th>604</th>\n",
              "      <td>HBV0000097EJO</td>\n",
              "      <td>ZYBENC336876</td>\n",
              "      <td>1.00</td>\n",
              "      <td>HBV0000097EJO</td>\n",
              "      <td>Mr. Muscle</td>\n",
              "      <td>Ev Bakım ve Temizlik</td>\n",
              "      <td>Mutfak Ve Banyo Ürünleri</td>\n",
              "      <td>Mr Muscle Promo Mutfak Temizleyici Limon 750 m...</td>\n",
              "      <td>ZYBENC336876</td>\n",
              "      <td>Marc</td>\n",
              "      <td>Ev Bakım ve Temizlik</td>\n",
              "      <td>Mutfak Ve Banyo Ürünleri</td>\n",
              "      <td>Marc Banyo ve Mutfak Temizleyici Yağ Çözücü &amp; ...</td>\n",
              "    </tr>\n",
              "    <tr>\n",
              "      <th>605</th>\n",
              "      <td>HRTEK3TEKIS604</td>\n",
              "      <td>HBV00000PVQBT</td>\n",
              "      <td>1.00</td>\n",
              "      <td>HRTEK3TEKIS604</td>\n",
              "      <td>TEK-İŞ</td>\n",
              "      <td>Ev Yaşam ve Bahçe</td>\n",
              "      <td>Hırdavat, Kablo ve Aksesuarlar</td>\n",
              "      <td>Tek-İş - Klasik Üçlü Fiş</td>\n",
              "      <td>HBV00000PVQBT</td>\n",
              "      <td>Tekis</td>\n",
              "      <td>Ev Yaşam ve Bahçe</td>\n",
              "      <td>Hırdavat, Kablo ve Aksesuarlar</td>\n",
              "      <td>Golyat Üçlü Fiş</td>\n",
              "    </tr>\n",
              "    <tr>\n",
              "      <th>606</th>\n",
              "      <td>HBV00000PVQBT</td>\n",
              "      <td>HRTEK3TEKIS604</td>\n",
              "      <td>1.00</td>\n",
              "      <td>HBV00000PVQBT</td>\n",
              "      <td>Tekis</td>\n",
              "      <td>Ev Yaşam ve Bahçe</td>\n",
              "      <td>Hırdavat, Kablo ve Aksesuarlar</td>\n",
              "      <td>Golyat Üçlü Fiş</td>\n",
              "      <td>HRTEK3TEKIS604</td>\n",
              "      <td>TEK-İŞ</td>\n",
              "      <td>Ev Yaşam ve Bahçe</td>\n",
              "      <td>Hırdavat, Kablo ve Aksesuarlar</td>\n",
              "      <td>Tek-İş - Klasik Üçlü Fiş</td>\n",
              "    </tr>\n",
              "  </tbody>\n",
              "</table>\n",
              "<p>607 rows × 13 columns</p>\n",
              "</div>"
            ],
            "text/plain": [
              "        antecedents  ...                                         name_right\n",
              "0     HBV00000TDWF9  ...                                       Çilek 250 gr\n",
              "1     HBV00000SP8AZ  ...                                       Çilek 250 gr\n",
              "2     HBV00000PV5O6  ...                                       Çilek 250 gr\n",
              "3     HBV00000OE7U3  ...                                       Çilek 250 gr\n",
              "4     HBV00000QX1YQ  ...                                       Çilek 250 gr\n",
              "..              ...  ...                                                ...\n",
              "602   HBV00000PV8IF  ...  Hipp Organik Yoğurtlu Meyveli Tahıl Bazlı Ek g...\n",
              "603   HBV00000U2B97  ...           Hipp Organik Sütlü Meyveli Ek Gıda 250 g\n",
              "604   HBV0000097EJO  ...  Marc Banyo ve Mutfak Temizleyici Yağ Çözücü & ...\n",
              "605  HRTEK3TEKIS604  ...                                    Golyat Üçlü Fiş\n",
              "606   HBV00000PVQBT  ...                           Tek-İş - Klasik Üçlü Fiş\n",
              "\n",
              "[607 rows x 13 columns]"
            ]
          },
          "metadata": {
            "tags": []
          },
          "execution_count": 26
        }
      ]
    },
    {
      "cell_type": "code",
      "metadata": {
        "id": "1IzQ9OFnEjXl"
      },
      "source": [
        "features_list = list(fb_merged.columns)\n",
        "features_list.remove('confidence')"
      ],
      "execution_count": 27,
      "outputs": []
    },
    {
      "cell_type": "code",
      "metadata": {
        "colab": {
          "base_uri": "https://localhost:8080/",
          "height": 965
        },
        "id": "EVQFgUanEJ7R",
        "outputId": "db196e92-ea72-438c-88c2-5d4818f3fc7b"
      },
      "source": [
        "features = fb_merged[features_list].drop(['productid','productid_right'],axis=1)\n",
        "features"
      ],
      "execution_count": 28,
      "outputs": [
        {
          "output_type": "execute_result",
          "data": {
            "text/html": [
              "<div>\n",
              "<style scoped>\n",
              "    .dataframe tbody tr th:only-of-type {\n",
              "        vertical-align: middle;\n",
              "    }\n",
              "\n",
              "    .dataframe tbody tr th {\n",
              "        vertical-align: top;\n",
              "    }\n",
              "\n",
              "    .dataframe thead th {\n",
              "        text-align: right;\n",
              "    }\n",
              "</style>\n",
              "<table border=\"1\" class=\"dataframe\">\n",
              "  <thead>\n",
              "    <tr style=\"text-align: right;\">\n",
              "      <th></th>\n",
              "      <th>antecedents</th>\n",
              "      <th>consequents</th>\n",
              "      <th>brand</th>\n",
              "      <th>category</th>\n",
              "      <th>subcategory</th>\n",
              "      <th>name</th>\n",
              "      <th>brand_right</th>\n",
              "      <th>category_right</th>\n",
              "      <th>subcategory_right</th>\n",
              "      <th>name_right</th>\n",
              "    </tr>\n",
              "  </thead>\n",
              "  <tbody>\n",
              "    <tr>\n",
              "      <th>0</th>\n",
              "      <td>HBV00000TDWF9</td>\n",
              "      <td>HBV00000O2S62</td>\n",
              "      <td>Tek Lezzet</td>\n",
              "      <td>Pratik Yemekler</td>\n",
              "      <td>Hazır Yemekler</td>\n",
              "      <td>Tek Lezzet Bal Kabağı Püresi Kavanoz 320 gr</td>\n",
              "      <td>None</td>\n",
              "      <td>Meyve ve Sebze</td>\n",
              "      <td>Meyve</td>\n",
              "      <td>Çilek 250 gr</td>\n",
              "    </tr>\n",
              "    <tr>\n",
              "      <th>1</th>\n",
              "      <td>HBV00000SP8AZ</td>\n",
              "      <td>HBV00000O2S62</td>\n",
              "      <td>Tat</td>\n",
              "      <td>Temel Gıda</td>\n",
              "      <td>Salça ve Hazır Soslar</td>\n",
              "      <td>Tat Ranch Sos 220 gr</td>\n",
              "      <td>None</td>\n",
              "      <td>Meyve ve Sebze</td>\n",
              "      <td>Meyve</td>\n",
              "      <td>Çilek 250 gr</td>\n",
              "    </tr>\n",
              "    <tr>\n",
              "      <th>2</th>\n",
              "      <td>HBV00000PV5O6</td>\n",
              "      <td>HBV00000O2S62</td>\n",
              "      <td>Arifoğlu</td>\n",
              "      <td>Temel Gıda</td>\n",
              "      <td>Salça ve Hazır Soslar</td>\n",
              "      <td>Arifoğlu Nar Ekşisi 750 g</td>\n",
              "      <td>None</td>\n",
              "      <td>Meyve ve Sebze</td>\n",
              "      <td>Meyve</td>\n",
              "      <td>Çilek 250 gr</td>\n",
              "    </tr>\n",
              "    <tr>\n",
              "      <th>3</th>\n",
              "      <td>HBV00000OE7U3</td>\n",
              "      <td>HBV00000O2S62</td>\n",
              "      <td>None</td>\n",
              "      <td>Meyve ve Sebze</td>\n",
              "      <td>Meyve</td>\n",
              "      <td>Çağla 250 gr</td>\n",
              "      <td>None</td>\n",
              "      <td>Meyve ve Sebze</td>\n",
              "      <td>Meyve</td>\n",
              "      <td>Çilek 250 gr</td>\n",
              "    </tr>\n",
              "    <tr>\n",
              "      <th>4</th>\n",
              "      <td>HBV00000QX1YQ</td>\n",
              "      <td>HBV00000O2S62</td>\n",
              "      <td>Lezita</td>\n",
              "      <td>Et, Balık, Şarküteri</td>\n",
              "      <td>Şarküteri</td>\n",
              "      <td>Lezita Nugget 300 gr</td>\n",
              "      <td>None</td>\n",
              "      <td>Meyve ve Sebze</td>\n",
              "      <td>Meyve</td>\n",
              "      <td>Çilek 250 gr</td>\n",
              "    </tr>\n",
              "    <tr>\n",
              "      <th>...</th>\n",
              "      <td>...</td>\n",
              "      <td>...</td>\n",
              "      <td>...</td>\n",
              "      <td>...</td>\n",
              "      <td>...</td>\n",
              "      <td>...</td>\n",
              "      <td>...</td>\n",
              "      <td>...</td>\n",
              "      <td>...</td>\n",
              "      <td>...</td>\n",
              "    </tr>\n",
              "    <tr>\n",
              "      <th>602</th>\n",
              "      <td>HBV00000PV8IF</td>\n",
              "      <td>HBV00000U2B97</td>\n",
              "      <td>Hipp</td>\n",
              "      <td>Bebek</td>\n",
              "      <td>Biberon Mamaları</td>\n",
              "      <td>Hipp Organik Sütlü Meyveli Ek Gıda 250 g</td>\n",
              "      <td>Hipp</td>\n",
              "      <td>Bebek</td>\n",
              "      <td>Biberon Mamaları</td>\n",
              "      <td>Hipp Organik Yoğurtlu Meyveli Tahıl Bazlı Ek g...</td>\n",
              "    </tr>\n",
              "    <tr>\n",
              "      <th>603</th>\n",
              "      <td>HBV00000U2B97</td>\n",
              "      <td>HBV00000PV8IF</td>\n",
              "      <td>Hipp</td>\n",
              "      <td>Bebek</td>\n",
              "      <td>Biberon Mamaları</td>\n",
              "      <td>Hipp Organik Yoğurtlu Meyveli Tahıl Bazlı Ek g...</td>\n",
              "      <td>Hipp</td>\n",
              "      <td>Bebek</td>\n",
              "      <td>Biberon Mamaları</td>\n",
              "      <td>Hipp Organik Sütlü Meyveli Ek Gıda 250 g</td>\n",
              "    </tr>\n",
              "    <tr>\n",
              "      <th>604</th>\n",
              "      <td>HBV0000097EJO</td>\n",
              "      <td>ZYBENC336876</td>\n",
              "      <td>Mr. Muscle</td>\n",
              "      <td>Ev Bakım ve Temizlik</td>\n",
              "      <td>Mutfak Ve Banyo Ürünleri</td>\n",
              "      <td>Mr Muscle Promo Mutfak Temizleyici Limon 750 m...</td>\n",
              "      <td>Marc</td>\n",
              "      <td>Ev Bakım ve Temizlik</td>\n",
              "      <td>Mutfak Ve Banyo Ürünleri</td>\n",
              "      <td>Marc Banyo ve Mutfak Temizleyici Yağ Çözücü &amp; ...</td>\n",
              "    </tr>\n",
              "    <tr>\n",
              "      <th>605</th>\n",
              "      <td>HRTEK3TEKIS604</td>\n",
              "      <td>HBV00000PVQBT</td>\n",
              "      <td>TEK-İŞ</td>\n",
              "      <td>Ev Yaşam ve Bahçe</td>\n",
              "      <td>Hırdavat, Kablo ve Aksesuarlar</td>\n",
              "      <td>Tek-İş - Klasik Üçlü Fiş</td>\n",
              "      <td>Tekis</td>\n",
              "      <td>Ev Yaşam ve Bahçe</td>\n",
              "      <td>Hırdavat, Kablo ve Aksesuarlar</td>\n",
              "      <td>Golyat Üçlü Fiş</td>\n",
              "    </tr>\n",
              "    <tr>\n",
              "      <th>606</th>\n",
              "      <td>HBV00000PVQBT</td>\n",
              "      <td>HRTEK3TEKIS604</td>\n",
              "      <td>Tekis</td>\n",
              "      <td>Ev Yaşam ve Bahçe</td>\n",
              "      <td>Hırdavat, Kablo ve Aksesuarlar</td>\n",
              "      <td>Golyat Üçlü Fiş</td>\n",
              "      <td>TEK-İŞ</td>\n",
              "      <td>Ev Yaşam ve Bahçe</td>\n",
              "      <td>Hırdavat, Kablo ve Aksesuarlar</td>\n",
              "      <td>Tek-İş - Klasik Üçlü Fiş</td>\n",
              "    </tr>\n",
              "  </tbody>\n",
              "</table>\n",
              "<p>607 rows × 10 columns</p>\n",
              "</div>"
            ],
            "text/plain": [
              "        antecedents  ...                                         name_right\n",
              "0     HBV00000TDWF9  ...                                       Çilek 250 gr\n",
              "1     HBV00000SP8AZ  ...                                       Çilek 250 gr\n",
              "2     HBV00000PV5O6  ...                                       Çilek 250 gr\n",
              "3     HBV00000OE7U3  ...                                       Çilek 250 gr\n",
              "4     HBV00000QX1YQ  ...                                       Çilek 250 gr\n",
              "..              ...  ...                                                ...\n",
              "602   HBV00000PV8IF  ...  Hipp Organik Yoğurtlu Meyveli Tahıl Bazlı Ek g...\n",
              "603   HBV00000U2B97  ...           Hipp Organik Sütlü Meyveli Ek Gıda 250 g\n",
              "604   HBV0000097EJO  ...  Marc Banyo ve Mutfak Temizleyici Yağ Çözücü & ...\n",
              "605  HRTEK3TEKIS604  ...                                    Golyat Üçlü Fiş\n",
              "606   HBV00000PVQBT  ...                           Tek-İş - Klasik Üçlü Fiş\n",
              "\n",
              "[607 rows x 10 columns]"
            ]
          },
          "metadata": {
            "tags": []
          },
          "execution_count": 28
        }
      ]
    },
    {
      "cell_type": "code",
      "metadata": {
        "colab": {
          "base_uri": "https://localhost:8080/"
        },
        "id": "pwbOqmCbFn3m",
        "outputId": "ee834a38-f9ed-42ce-c8b0-27fe86fde54f"
      },
      "source": [
        "fb_merged.info()"
      ],
      "execution_count": 29,
      "outputs": [
        {
          "output_type": "stream",
          "text": [
            "<class 'pandas.core.frame.DataFrame'>\n",
            "Int64Index: 607 entries, 0 to 606\n",
            "Data columns (total 13 columns):\n",
            " #   Column             Non-Null Count  Dtype  \n",
            "---  ------             --------------  -----  \n",
            " 0   antecedents        607 non-null    object \n",
            " 1   consequents        607 non-null    object \n",
            " 2   confidence         607 non-null    float64\n",
            " 3   productid          607 non-null    object \n",
            " 4   brand              570 non-null    object \n",
            " 5   category           607 non-null    object \n",
            " 6   subcategory        607 non-null    object \n",
            " 7   name               607 non-null    object \n",
            " 8   productid_right    607 non-null    object \n",
            " 9   brand_right        481 non-null    object \n",
            " 10  category_right     607 non-null    object \n",
            " 11  subcategory_right  607 non-null    object \n",
            " 12  name_right         607 non-null    object \n",
            "dtypes: float64(1), object(12)\n",
            "memory usage: 66.4+ KB\n"
          ],
          "name": "stdout"
        }
      ]
    },
    {
      "cell_type": "code",
      "metadata": {
        "colab": {
          "base_uri": "https://localhost:8080/"
        },
        "id": "Dy_m2cuXEAoJ",
        "outputId": "65ef811c-c1dd-4123-9b37-f6ef37b8ef98"
      },
      "source": [
        "fb_merged.values[0]"
      ],
      "execution_count": 30,
      "outputs": [
        {
          "output_type": "execute_result",
          "data": {
            "text/plain": [
              "array(['HBV00000TDWF9', 'HBV00000O2S62', 0.75, 'HBV00000TDWF9',\n",
              "       'Tek Lezzet', 'Pratik Yemekler', 'Hazır Yemekler',\n",
              "       'Tek Lezzet Bal Kabağı Püresi Kavanoz 320 gr', 'HBV00000O2S62',\n",
              "       None, 'Meyve ve Sebze', 'Meyve', 'Çilek 250 gr'], dtype=object)"
            ]
          },
          "metadata": {
            "tags": []
          },
          "execution_count": 30
        }
      ]
    },
    {
      "cell_type": "code",
      "metadata": {
        "colab": {
          "base_uri": "https://localhost:8080/"
        },
        "id": "3WC5zxAuHIgw",
        "outputId": "941a0460-3ca9-415f-dce4-9af6e70114e6"
      },
      "source": [
        "features.values"
      ],
      "execution_count": 31,
      "outputs": [
        {
          "output_type": "execute_result",
          "data": {
            "text/plain": [
              "array([['HBV00000TDWF9', 'HBV00000O2S62', 'Tek Lezzet', ...,\n",
              "        'Meyve ve Sebze', 'Meyve', 'Çilek 250 gr'],\n",
              "       ['HBV00000SP8AZ', 'HBV00000O2S62', 'Tat', ..., 'Meyve ve Sebze',\n",
              "        'Meyve', 'Çilek 250 gr'],\n",
              "       ['HBV00000PV5O6', 'HBV00000O2S62', 'Arifoğlu', ...,\n",
              "        'Meyve ve Sebze', 'Meyve', 'Çilek 250 gr'],\n",
              "       ...,\n",
              "       ['HBV0000097EJO', 'ZYBENC336876', 'Mr. Muscle', ...,\n",
              "        'Ev Bakım ve Temizlik', 'Mutfak Ve Banyo Ürünleri',\n",
              "        \"Marc Banyo ve Mutfak Temizleyici Yağ Çözücü & Kireç Sökücü Sprey 2'li Set (2x750 ml)\"],\n",
              "       ['HRTEK3TEKIS604', 'HBV00000PVQBT', 'TEK-İŞ', ...,\n",
              "        'Ev Yaşam ve Bahçe', 'Hırdavat, Kablo ve Aksesuarlar',\n",
              "        'Golyat Üçlü Fiş'],\n",
              "       ['HBV00000PVQBT', 'HRTEK3TEKIS604', 'Tekis', ...,\n",
              "        'Ev Yaşam ve Bahçe', 'Hırdavat, Kablo ve Aksesuarlar',\n",
              "        'Tek-İş - Klasik Üçlü Fiş']], dtype=object)"
            ]
          },
          "metadata": {
            "tags": []
          },
          "execution_count": 31
        }
      ]
    },
    {
      "cell_type": "code",
      "metadata": {
        "id": "kRbKyttxCH6_"
      },
      "source": [
        "#vectorizing using tfidf\n",
        "corpus_list = []\n",
        "for seq in features.values:\n",
        "  try:\n",
        "    x = ' '.join(seq)\n",
        "    \n",
        "  except :\n",
        "    x = 'Empty' \n",
        "  corpus_list.append(x)\n",
        "  "
      ],
      "execution_count": 32,
      "outputs": []
    },
    {
      "cell_type": "code",
      "metadata": {
        "id": "fYjL7w3XLDJh"
      },
      "source": [
        "#split test and training \n",
        "test_size = .2 \n",
        "train_features = corpus_list[:int(len(corpus_list)*(1-test_size))]\n",
        "train_labels = fb_merged.confidence.values[:int(len(corpus_list)*(1-test_size))]"
      ],
      "execution_count": 33,
      "outputs": []
    },
    {
      "cell_type": "code",
      "metadata": {
        "colab": {
          "base_uri": "https://localhost:8080/"
        },
        "id": "Pu2XMu3lL3Oj",
        "outputId": "d0c6c0b4-91e7-4ee1-9229-2a61885c7884"
      },
      "source": [
        "len(train_features) - len(train_labels)"
      ],
      "execution_count": 34,
      "outputs": [
        {
          "output_type": "execute_result",
          "data": {
            "text/plain": [
              "0"
            ]
          },
          "metadata": {
            "tags": []
          },
          "execution_count": 34
        }
      ]
    },
    {
      "cell_type": "code",
      "metadata": {
        "id": "t0wsZ4ZsIARN"
      },
      "source": [
        "from sklearn.feature_extraction.text import TfidfVectorizer\n",
        "vectorizer = TfidfVectorizer()\n",
        "X= vectorizer.fit_transform(train_features)"
      ],
      "execution_count": 35,
      "outputs": []
    },
    {
      "cell_type": "code",
      "metadata": {
        "colab": {
          "base_uri": "https://localhost:8080/"
        },
        "id": "irTNzZCFQvRa",
        "outputId": "7fc544d8-5e9b-4fa2-8d53-f044a0080bb8"
      },
      "source": [
        "X"
      ],
      "execution_count": 36,
      "outputs": [
        {
          "output_type": "execute_result",
          "data": {
            "text/plain": [
              "<485x1864 sparse matrix of type '<class 'numpy.float64'>'\n",
              "\twith 6286 stored elements in Compressed Sparse Row format>"
            ]
          },
          "metadata": {
            "tags": []
          },
          "execution_count": 36
        }
      ]
    },
    {
      "cell_type": "code",
      "metadata": {
        "colab": {
          "base_uri": "https://localhost:8080/"
        },
        "id": "wKAcR8daHm4P",
        "outputId": "9c676e41-f78a-4839-90b3-9607c44d9f34"
      },
      "source": [
        "len(vectorizer.get_feature_names())"
      ],
      "execution_count": 37,
      "outputs": [
        {
          "output_type": "execute_result",
          "data": {
            "text/plain": [
              "1864"
            ]
          },
          "metadata": {
            "tags": []
          },
          "execution_count": 37
        }
      ]
    },
    {
      "cell_type": "code",
      "metadata": {
        "id": "cZKjwu1gJ3Lk"
      },
      "source": [
        "encoded = vectorizer.transform(corpus_list[0].split())"
      ],
      "execution_count": 38,
      "outputs": []
    },
    {
      "cell_type": "code",
      "metadata": {
        "id": "Udezv4jGJCwf"
      },
      "source": [
        "decoded= vectorizer.inverse_transform(encoded)"
      ],
      "execution_count": 39,
      "outputs": []
    },
    {
      "cell_type": "code",
      "metadata": {
        "id": "DVrnBgQyKmZb"
      },
      "source": [
        "train_features = [vectorizer.transform(train_features)]"
      ],
      "execution_count": 41,
      "outputs": []
    },
    {
      "cell_type": "code",
      "metadata": {
        "colab": {
          "base_uri": "https://localhost:8080/"
        },
        "id": "1zZc8FwAPiJk",
        "outputId": "b0210d78-c6bf-4cbb-a7a9-4be451106c2e"
      },
      "source": [
        "X"
      ],
      "execution_count": 42,
      "outputs": [
        {
          "output_type": "execute_result",
          "data": {
            "text/plain": [
              "<485x1864 sparse matrix of type '<class 'numpy.float64'>'\n",
              "\twith 6286 stored elements in Compressed Sparse Row format>"
            ]
          },
          "metadata": {
            "tags": []
          },
          "execution_count": 42
        }
      ]
    },
    {
      "cell_type": "code",
      "metadata": {
        "colab": {
          "base_uri": "https://localhost:8080/"
        },
        "id": "4yYiV9CyP6FL",
        "outputId": "51e93d51-fc26-4fc8-b9a1-6b384fd12b5a"
      },
      "source": [
        "train_labels[0]"
      ],
      "execution_count": 43,
      "outputs": [
        {
          "output_type": "execute_result",
          "data": {
            "text/plain": [
              "0.75"
            ]
          },
          "metadata": {
            "tags": []
          },
          "execution_count": 43
        }
      ]
    },
    {
      "cell_type": "code",
      "metadata": {
        "id": "PQArBF5GMouZ"
      },
      "source": [
        "from sklearn.ensemble import RandomForestRegressor\n",
        "from sklearn.decomposition import TruncatedSVD\n",
        "pca = TruncatedSVD(70)\n",
        "X = pca.fit_transform(X)\n",
        "regressor = RandomForestRegressor()"
      ],
      "execution_count": 44,
      "outputs": []
    },
    {
      "cell_type": "code",
      "metadata": {
        "colab": {
          "base_uri": "https://localhost:8080/"
        },
        "id": "VVfh3q_5IicL",
        "outputId": "863d1bb3-9140-4b9e-cfb6-5a898e10e577"
      },
      "source": [
        "import numpy as np\n",
        "sum(pca.explained_variance_ratio_)"
      ],
      "execution_count": 45,
      "outputs": [
        {
          "output_type": "execute_result",
          "data": {
            "text/plain": [
              "0.729356330120438"
            ]
          },
          "metadata": {
            "tags": []
          },
          "execution_count": 45
        }
      ]
    },
    {
      "cell_type": "code",
      "metadata": {
        "colab": {
          "base_uri": "https://localhost:8080/"
        },
        "id": "tJmg9FK-xs7E",
        "outputId": "358cd98a-4670-4b29-8cb2-b5d1fee496fd"
      },
      "source": [
        "X[0]"
      ],
      "execution_count": 46,
      "outputs": [
        {
          "output_type": "execute_result",
          "data": {
            "text/plain": [
              "array([ 1.00000000e+00, -1.34235794e-15, -3.44681522e-17, -2.19206472e-17,\n",
              "        8.16121553e-17, -2.92990853e-17, -7.43468672e-18, -5.09563855e-17,\n",
              "       -1.59404694e-18,  2.42720851e-17,  1.73985304e-17, -2.07585970e-17,\n",
              "       -1.96773967e-17, -6.07866365e-17, -8.86174369e-18,  2.12123451e-17,\n",
              "        6.67980228e-18, -2.24494517e-17,  1.70430077e-17, -4.68828289e-17,\n",
              "        8.65595624e-17, -3.66714799e-17, -7.40784808e-17,  2.64734259e-18,\n",
              "        5.55035015e-17,  1.22552459e-17, -5.82319089e-18, -1.76852443e-16,\n",
              "       -4.82999006e-17,  1.35166351e-16, -3.03154736e-18, -5.17282554e-17,\n",
              "       -4.92118158e-17, -1.58003389e-16,  3.61929320e-16,  4.25737519e-17,\n",
              "       -1.88692335e-16, -2.65871231e-17, -4.93291850e-16,  1.69866738e-16,\n",
              "       -1.90506369e-16,  1.07546001e-16, -1.24034999e-16,  5.49359373e-17,\n",
              "       -6.34645447e-17,  1.02136041e-16, -3.81563023e-16,  9.84630336e-17,\n",
              "       -1.02559717e-16,  5.36114607e-16, -2.39945779e-16,  5.78790091e-16,\n",
              "        1.97793842e-16,  4.46557947e-16, -1.18284891e-15, -5.94413053e-16,\n",
              "        3.33890805e-16,  8.41869649e-16, -3.59903249e-16, -9.25212933e-16,\n",
              "       -2.37707736e-16,  1.61437878e-16,  5.79417270e-16,  2.85004160e-16,\n",
              "        9.84331719e-17,  1.52390309e-16,  1.66175899e-16,  1.23087691e-15,\n",
              "        5.41606619e-16,  8.34157099e-16])"
            ]
          },
          "metadata": {
            "tags": []
          },
          "execution_count": 46
        }
      ]
    },
    {
      "cell_type": "code",
      "metadata": {
        "id": "ko1Yz8HxZ7PE",
        "colab": {
          "base_uri": "https://localhost:8080/"
        },
        "outputId": "ca4ed153-0212-4aca-8a7c-ad4c23ec0a2e"
      },
      "source": [
        "regressor.fit(X, train_labels)"
      ],
      "execution_count": 47,
      "outputs": [
        {
          "output_type": "execute_result",
          "data": {
            "text/plain": [
              "RandomForestRegressor(bootstrap=True, ccp_alpha=0.0, criterion='mse',\n",
              "                      max_depth=None, max_features='auto', max_leaf_nodes=None,\n",
              "                      max_samples=None, min_impurity_decrease=0.0,\n",
              "                      min_impurity_split=None, min_samples_leaf=1,\n",
              "                      min_samples_split=2, min_weight_fraction_leaf=0.0,\n",
              "                      n_estimators=100, n_jobs=None, oob_score=False,\n",
              "                      random_state=None, verbose=0, warm_start=False)"
            ]
          },
          "metadata": {
            "tags": []
          },
          "execution_count": 47
        }
      ]
    },
    {
      "cell_type": "code",
      "metadata": {
        "id": "pXdvduwbZ_4-"
      },
      "source": [
        "features_test = corpus_list[len(X):]\n",
        "features_test = vectorizer.transform(features_test)\n",
        "features_test = pca.transform(features_test)\n",
        "labels_test = fb_merged.confidence.values[len(X):]\n",
        "prediction = regressor.predict(features_test)\n"
      ],
      "execution_count": 48,
      "outputs": []
    },
    {
      "cell_type": "code",
      "metadata": {
        "id": "XUPlUhbWyuYE"
      },
      "source": [
        "from sklearn.metrics import mean_squared_error\n",
        "rmse = mean_squared_error(labels_test, prediction, squared=False)"
      ],
      "execution_count": 49,
      "outputs": []
    },
    {
      "cell_type": "code",
      "metadata": {
        "colab": {
          "base_uri": "https://localhost:8080/"
        },
        "id": "44WYOz0C7E6b",
        "outputId": "b18fbc31-299e-4073-f567-2c513441ab4e"
      },
      "source": [
        "rmse"
      ],
      "execution_count": 50,
      "outputs": [
        {
          "output_type": "execute_result",
          "data": {
            "text/plain": [
              "0.04431610722075652"
            ]
          },
          "metadata": {
            "tags": []
          },
          "execution_count": 50
        }
      ]
    },
    {
      "cell_type": "code",
      "metadata": {
        "colab": {
          "base_uri": "https://localhost:8080/"
        },
        "id": "0GBoTY0QPGQp",
        "outputId": "f6e0179d-4d45-42a9-9a05-6ef1dead0dcf"
      },
      "source": [
        "from sklearn.model_selection import RandomizedSearchCV# Number of trees in random forest\n",
        "n_estimators = [int(x) for x in np.linspace(start = 200, stop = 2000, num = 10)]\n",
        "# Number of features to consider at every split\n",
        "max_features = ['auto', 'sqrt']\n",
        "# Maximum number of levels in tree\n",
        "max_depth = [int(x) for x in np.linspace(10, 110, num = 11)]\n",
        "max_depth.append(None)\n",
        "# Minimum number of samples required to split a node\n",
        "min_samples_split = [2, 5, 10]\n",
        "# Minimum number of samples required at each leaf node\n",
        "min_samples_leaf = [1, 2, 4]\n",
        "# Method of selecting samples for training each tree\n",
        "bootstrap = [True, False]# Create the random grid\n",
        "random_grid = {'n_estimators': n_estimators,\n",
        "               'max_features': max_features,\n",
        "               'max_depth': max_depth,\n",
        "               'min_samples_split': min_samples_split,\n",
        "               'min_samples_leaf': min_samples_leaf,\n",
        "               'bootstrap': bootstrap}\n",
        "print(random_grid)"
      ],
      "execution_count": 51,
      "outputs": [
        {
          "output_type": "stream",
          "text": [
            "{'n_estimators': [200, 400, 600, 800, 1000, 1200, 1400, 1600, 1800, 2000], 'max_features': ['auto', 'sqrt'], 'max_depth': [10, 20, 30, 40, 50, 60, 70, 80, 90, 100, 110, None], 'min_samples_split': [2, 5, 10], 'min_samples_leaf': [1, 2, 4], 'bootstrap': [True, False]}\n"
          ],
          "name": "stdout"
        }
      ]
    },
    {
      "cell_type": "code",
      "metadata": {
        "id": "vneTxh6cPJdf"
      },
      "source": [
        "from sklearn.model_selection import RandomizedSearchCV\n",
        "rf_random = RandomizedSearchCV(estimator = regressor, param_distributions = random_grid, n_iter = 100, cv = 3, verbose=2, random_state=42, n_jobs = -1)"
      ],
      "execution_count": 52,
      "outputs": []
    },
    {
      "cell_type": "code",
      "metadata": {
        "colab": {
          "base_uri": "https://localhost:8080/"
        },
        "id": "HOEkvY14PW9b",
        "outputId": "27a626a7-b230-4e8f-d573-23f71b861eff"
      },
      "source": [
        "rf_random.fit(X, train_labels)"
      ],
      "execution_count": 53,
      "outputs": [
        {
          "output_type": "stream",
          "text": [
            "Fitting 3 folds for each of 100 candidates, totalling 300 fits\n"
          ],
          "name": "stdout"
        },
        {
          "output_type": "stream",
          "text": [
            "[Parallel(n_jobs=-1)]: Using backend LokyBackend with 4 concurrent workers.\n",
            "[Parallel(n_jobs=-1)]: Done  33 tasks      | elapsed:  1.6min\n",
            "[Parallel(n_jobs=-1)]: Done 154 tasks      | elapsed:  7.0min\n",
            "[Parallel(n_jobs=-1)]: Done 300 out of 300 | elapsed: 13.9min finished\n"
          ],
          "name": "stderr"
        },
        {
          "output_type": "execute_result",
          "data": {
            "text/plain": [
              "RandomizedSearchCV(cv=3, error_score=nan,\n",
              "                   estimator=RandomForestRegressor(bootstrap=True,\n",
              "                                                   ccp_alpha=0.0,\n",
              "                                                   criterion='mse',\n",
              "                                                   max_depth=None,\n",
              "                                                   max_features='auto',\n",
              "                                                   max_leaf_nodes=None,\n",
              "                                                   max_samples=None,\n",
              "                                                   min_impurity_decrease=0.0,\n",
              "                                                   min_impurity_split=None,\n",
              "                                                   min_samples_leaf=1,\n",
              "                                                   min_samples_split=2,\n",
              "                                                   min_weight_fraction_leaf=0.0,\n",
              "                                                   n_estimators=100,\n",
              "                                                   n_jobs=None, oob_score=Fals...\n",
              "                   param_distributions={'bootstrap': [True, False],\n",
              "                                        'max_depth': [10, 20, 30, 40, 50, 60,\n",
              "                                                      70, 80, 90, 100, 110,\n",
              "                                                      None],\n",
              "                                        'max_features': ['auto', 'sqrt'],\n",
              "                                        'min_samples_leaf': [1, 2, 4],\n",
              "                                        'min_samples_split': [2, 5, 10],\n",
              "                                        'n_estimators': [200, 400, 600, 800,\n",
              "                                                         1000, 1200, 1400, 1600,\n",
              "                                                         1800, 2000]},\n",
              "                   pre_dispatch='2*n_jobs', random_state=42, refit=True,\n",
              "                   return_train_score=False, scoring=None, verbose=2)"
            ]
          },
          "metadata": {
            "tags": []
          },
          "execution_count": 53
        }
      ]
    },
    {
      "cell_type": "code",
      "metadata": {
        "colab": {
          "base_uri": "https://localhost:8080/"
        },
        "id": "IwcdvuIQPx_6",
        "outputId": "bdedca47-d51a-466d-9b1e-3973aa3ed99c"
      },
      "source": [
        "def evaluate(model, test_features, test_labels):\n",
        "    predictions = model.predict(test_features)\n",
        "    errors = abs(predictions - test_labels)\n",
        "    mape = 100 * np.mean(errors / test_labels)\n",
        "    accuracy = 100 - mape\n",
        "    print('Model Performance')\n",
        "    print('Average Error: {:0.4f} degrees.'.format(np.mean(errors)))\n",
        "    print('Accuracy = {:0.2f}%.'.format(accuracy))\n",
        "    \n",
        "    return accuracy\n",
        "base_model = RandomForestRegressor(n_estimators = 10, random_state = 42)\n",
        "base_model.fit(X, train_labels)\n",
        "base_accuracy = evaluate(base_model, features_test, labels_test)"
      ],
      "execution_count": 54,
      "outputs": [
        {
          "output_type": "stream",
          "text": [
            "Model Performance\n",
            "Average Error: 0.0287 degrees.\n",
            "Accuracy = 97.01%.\n"
          ],
          "name": "stdout"
        }
      ]
    },
    {
      "cell_type": "code",
      "metadata": {
        "colab": {
          "base_uri": "https://localhost:8080/"
        },
        "id": "FoeEhgH2P_B7",
        "outputId": "e9b825bb-e174-4ed6-98f5-c0c5f6d44f6d"
      },
      "source": [
        "best_random = rf_random.best_estimator_\n",
        "random_accuracy = evaluate(best_random, features_test, labels_test)\n",
        "print('Improvement of {:0.2f}%.'.format( 100 * (random_accuracy - base_accuracy) / base_accuracy))"
      ],
      "execution_count": 55,
      "outputs": [
        {
          "output_type": "stream",
          "text": [
            "Model Performance\n",
            "Average Error: 0.0326 degrees.\n",
            "Accuracy = 96.61%.\n",
            "Improvement of -0.41%.\n"
          ],
          "name": "stdout"
        }
      ]
    },
    {
      "cell_type": "code",
      "metadata": {
        "colab": {
          "base_uri": "https://localhost:8080/"
        },
        "id": "EKc9rHKGULU7",
        "outputId": "8d69a7b9-5481-4e3c-8936-7ab1852e4234"
      },
      "source": [
        "import joblib\n",
        "joblib.dump(best_random, r'/content/data/resys.model')\n",
        "joblib.dump(pca, r'/content/data/pca.model')\n",
        "joblib.dump(vectorizer, r'/content/data/vectorizer.model')\n",
        "\n"
      ],
      "execution_count": 56,
      "outputs": [
        {
          "output_type": "execute_result",
          "data": {
            "text/plain": [
              "['/content/data/vectorizer.model']"
            ]
          },
          "metadata": {
            "tags": []
          },
          "execution_count": 56
        }
      ]
    },
    {
      "cell_type": "code",
      "metadata": {
        "id": "6pBX-_gl2drH"
      },
      "source": [
        "def get_productdata(id):\n",
        "  if id in meta.productid.values:\n",
        "    df = meta.rename(columns={'productid':'productid_right', \t'brand':'brand_right',\n",
        "                              'category':'category_right', \t'subcategory':'subcategory_right', 'name':\t'name_right'})\n",
        "    df['antecedents'] = id\n",
        "    df['consequents'] = meta.productid\n",
        "    print(len(meta.productid))\n",
        "    cols = ['productid', \t'brand', \t'category', \t'subcategory', \t'name']\n",
        "    for c in cols :\n",
        "      df[c] = meta[meta['productid'] == id ][c].values[0]\n",
        "\n",
        "    df = df[['antecedents', \t'consequents', \t'productid', \t'brand', \t'category', \t'subcategory', \t'name',\n",
        "            'productid_right', \t'brand_right', 'category_right',\t'subcategory_right', \t'name_right']]\n",
        "    return df\n",
        "  else :\n",
        "    return None"
      ],
      "execution_count": 57,
      "outputs": []
    },
    {
      "cell_type": "code",
      "metadata": {
        "colab": {
          "base_uri": "https://localhost:8080/"
        },
        "id": "Ko6p3kxi2gGt",
        "outputId": "2d054ee2-c525-491b-bed7-696f08ce6151"
      },
      "source": [
        "test = get_productdata('HBV00000JUHI4')"
      ],
      "execution_count": 58,
      "outputs": [
        {
          "output_type": "stream",
          "text": [
            "10236\n"
          ],
          "name": "stdout"
        }
      ]
    },
    {
      "cell_type": "code",
      "metadata": {
        "id": "oUnHw7_d9jzI"
      },
      "source": [
        "def pipline(df):\n",
        "  corpus_list = []\n",
        "  for seq in df.values:\n",
        "    try:\n",
        "      x = ' '.join(seq)\n",
        "    \n",
        "    except :\n",
        "      x = 'Empty' \n",
        "    corpus_list.append(x)\n",
        "  features = vectorizer.transform(corpus_list)\n",
        "  features = pca.transform(features)\n",
        "  df['confidence'] = model.predict(features)\n",
        "  df.sort_values('confidence',ascending=False)\n",
        "  return df[['consequents','confidence']].values[:10],df['name_right'].values[:10]\n"
      ],
      "execution_count": 59,
      "outputs": []
    },
    {
      "cell_type": "code",
      "metadata": {
        "colab": {
          "base_uri": "https://localhost:8080/"
        },
        "id": "l_4DZ0aZ9sVJ",
        "outputId": "866af7a1-cc12-4b91-8d7a-2aa91936cdd9"
      },
      "source": [
        "model = joblib.load(r'/content/data/resys.model')\n",
        "pca = joblib.load(r'/content/data/pca.model')\n",
        "vectorizer = joblib.load(r'/content/data/vectorizer.model')\n",
        "\n",
        "pipline(test)"
      ],
      "execution_count": 60,
      "outputs": [
        {
          "output_type": "execute_result",
          "data": {
            "text/plain": [
              "(array([['HBV00000AX6LR', 0.9601098557346691],\n",
              "        ['HBV00000BSAQG', 0.9639419149288961],\n",
              "        ['HBV00000JUHBA', 0.9452157505833507],\n",
              "        ['HBV00000NE0QI', 0.9557595583223845],\n",
              "        ['HBV00000NE0UQ', 0.9606572607842],\n",
              "        ['HBV00000NE1NR', 0.9594623407644068],\n",
              "        ['HBV00000NH2LJ', 0.9651905144597164],\n",
              "        ['HBV00000NVZ7D', 0.9553209946315134],\n",
              "        ['HBV00000NVZCG', 0.9581529657690381],\n",
              "        ['HBV00000OEL9Q', 0.9581529657690381]], dtype=object),\n",
              " array(['Palette Kalıcı Doğal Renkler 10-4 PAPATYA',\n",
              "        'Best Pet Jöle İçinde Parça Etli Somonlu Konserve Yetişkin Kedi Maması 415 gr',\n",
              "        'Türkiye Tarım Kredi Koop.Yeşil Mercimek 1 kg',\n",
              "        'Namet Fıstıklı Macar Salam 100 gr',\n",
              "        'Muratbey Burgu Peyniri 250 gr', 'Sek Quark Sade 140 g',\n",
              "        'Sırmakeş Doğal Kaynak Suyu 1,5 lt',\n",
              "        \"Asil Fırın Gurme Cookie Çikolata 8'li\",\n",
              "        'Granny Smith Elma 500 gr', 'Ekşi Mayalı Ekmek 1 Kg'], dtype=object))"
            ]
          },
          "metadata": {
            "tags": []
          },
          "execution_count": 60
        }
      ]
    }
  ]
}